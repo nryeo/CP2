{
  "nbformat": 4,
  "nbformat_minor": 0,
  "metadata": {
    "colab": {
      "provenance": [],
      "authorship_tag": "ABX9TyNatLo4DXe0uvdTErQqLHWK",
      "include_colab_link": true
    },
    "kernelspec": {
      "name": "python3",
      "display_name": "Python 3"
    },
    "language_info": {
      "name": "python"
    }
  },
  "cells": [
    {
      "cell_type": "markdown",
      "metadata": {
        "id": "view-in-github",
        "colab_type": "text"
      },
      "source": [
        "<a href=\"https://colab.research.google.com/github/stebechoi/CP2/blob/Hwkdir/3.%20(MovieLense100K)_CF.ipynb\" target=\"_parent\"><img src=\"https://colab.research.google.com/assets/colab-badge.svg\" alt=\"Open In Colab\"/></a>"
      ]
    },
    {
      "cell_type": "markdown",
      "source": [
        "# MovieLense 데이터를 이용한 영화 추천 시스템(Collaborative filtering: 협업필터링)"
      ],
      "metadata": {
        "id": "a8CycLiotLN3"
      }
    },
    {
      "cell_type": "markdown",
      "source": [
        "## CF\n",
        "- Collaborative Filtering 협업 필터링 </br>\n",
        "  사용자와 비슷한 다른 사용자의 평가를 파악하여 이용\n",
        "    - 장점: 아이템 특성에 의존하지 않는다.\n",
        "    - 단점\n",
        "      - 평가되지 않은 아이템은 추천하지 않는다(new item problem)\n",
        "      - 보통 가장 인기 있는 아이템이 추천된다.\n",
        "      - 비슷한 유저 군이 존재하는 사용자 그룹이 필요하다.(cold start problem for new users)"
      ],
      "metadata": {
        "id": "YprkdwkPxA9m"
      }
    },
    {
      "cell_type": "code",
      "source": [
        "import pandas as pd\n",
        "import numpy as np\n",
        "import seaborn as sns\n",
        "import matplotlib.pyplot as plt"
      ],
      "metadata": {
        "id": "2q-HwemN9dSC"
      },
      "execution_count": 15,
      "outputs": []
    },
    {
      "cell_type": "markdown",
      "source": [
        "### CF 유사도 모델\n",
        "참고\n",
        "- https://www.youtube.com/watch?v=mJ8pEjN3FKg </br>\n",
        "- https://www.youtube.com/watch?v=Lc5mfCF0mCU"
      ],
      "metadata": {
        "id": "7Z326hOltud-"
      }
    },
    {
      "cell_type": "code",
      "source": [
        "columns=['user_id', 'movie_id', 'rating', 'timestamp'] \n",
        "data=pd.read_csv('ml-100k/u.data', sep='\\t', names=columns)\n",
        "data = data[['user_id', 'movie_id', 'rating']]\n",
        "data"
      ],
      "metadata": {
        "colab": {
          "base_uri": "https://localhost:8080/",
          "height": 423
        },
        "id": "MPlStXJu88fi",
        "outputId": "d43ce55d-1de4-4413-95e2-8845b3a4d158"
      },
      "execution_count": 18,
      "outputs": [
        {
          "output_type": "execute_result",
          "data": {
            "text/plain": [
              "       user_id  movie_id  rating\n",
              "0          196       242       3\n",
              "1          186       302       3\n",
              "2           22       377       1\n",
              "3          244        51       2\n",
              "4          166       346       1\n",
              "...        ...       ...     ...\n",
              "99995      880       476       3\n",
              "99996      716       204       5\n",
              "99997      276      1090       1\n",
              "99998       13       225       2\n",
              "99999       12       203       3\n",
              "\n",
              "[100000 rows x 3 columns]"
            ],
            "text/html": [
              "\n",
              "  <div id=\"df-0fe9a1f2-7f33-44a5-b44c-9efc335bb564\">\n",
              "    <div class=\"colab-df-container\">\n",
              "      <div>\n",
              "<style scoped>\n",
              "    .dataframe tbody tr th:only-of-type {\n",
              "        vertical-align: middle;\n",
              "    }\n",
              "\n",
              "    .dataframe tbody tr th {\n",
              "        vertical-align: top;\n",
              "    }\n",
              "\n",
              "    .dataframe thead th {\n",
              "        text-align: right;\n",
              "    }\n",
              "</style>\n",
              "<table border=\"1\" class=\"dataframe\">\n",
              "  <thead>\n",
              "    <tr style=\"text-align: right;\">\n",
              "      <th></th>\n",
              "      <th>user_id</th>\n",
              "      <th>movie_id</th>\n",
              "      <th>rating</th>\n",
              "    </tr>\n",
              "  </thead>\n",
              "  <tbody>\n",
              "    <tr>\n",
              "      <th>0</th>\n",
              "      <td>196</td>\n",
              "      <td>242</td>\n",
              "      <td>3</td>\n",
              "    </tr>\n",
              "    <tr>\n",
              "      <th>1</th>\n",
              "      <td>186</td>\n",
              "      <td>302</td>\n",
              "      <td>3</td>\n",
              "    </tr>\n",
              "    <tr>\n",
              "      <th>2</th>\n",
              "      <td>22</td>\n",
              "      <td>377</td>\n",
              "      <td>1</td>\n",
              "    </tr>\n",
              "    <tr>\n",
              "      <th>3</th>\n",
              "      <td>244</td>\n",
              "      <td>51</td>\n",
              "      <td>2</td>\n",
              "    </tr>\n",
              "    <tr>\n",
              "      <th>4</th>\n",
              "      <td>166</td>\n",
              "      <td>346</td>\n",
              "      <td>1</td>\n",
              "    </tr>\n",
              "    <tr>\n",
              "      <th>...</th>\n",
              "      <td>...</td>\n",
              "      <td>...</td>\n",
              "      <td>...</td>\n",
              "    </tr>\n",
              "    <tr>\n",
              "      <th>99995</th>\n",
              "      <td>880</td>\n",
              "      <td>476</td>\n",
              "      <td>3</td>\n",
              "    </tr>\n",
              "    <tr>\n",
              "      <th>99996</th>\n",
              "      <td>716</td>\n",
              "      <td>204</td>\n",
              "      <td>5</td>\n",
              "    </tr>\n",
              "    <tr>\n",
              "      <th>99997</th>\n",
              "      <td>276</td>\n",
              "      <td>1090</td>\n",
              "      <td>1</td>\n",
              "    </tr>\n",
              "    <tr>\n",
              "      <th>99998</th>\n",
              "      <td>13</td>\n",
              "      <td>225</td>\n",
              "      <td>2</td>\n",
              "    </tr>\n",
              "    <tr>\n",
              "      <th>99999</th>\n",
              "      <td>12</td>\n",
              "      <td>203</td>\n",
              "      <td>3</td>\n",
              "    </tr>\n",
              "  </tbody>\n",
              "</table>\n",
              "<p>100000 rows × 3 columns</p>\n",
              "</div>\n",
              "      <button class=\"colab-df-convert\" onclick=\"convertToInteractive('df-0fe9a1f2-7f33-44a5-b44c-9efc335bb564')\"\n",
              "              title=\"Convert this dataframe to an interactive table.\"\n",
              "              style=\"display:none;\">\n",
              "        \n",
              "  <svg xmlns=\"http://www.w3.org/2000/svg\" height=\"24px\"viewBox=\"0 0 24 24\"\n",
              "       width=\"24px\">\n",
              "    <path d=\"M0 0h24v24H0V0z\" fill=\"none\"/>\n",
              "    <path d=\"M18.56 5.44l.94 2.06.94-2.06 2.06-.94-2.06-.94-.94-2.06-.94 2.06-2.06.94zm-11 1L8.5 8.5l.94-2.06 2.06-.94-2.06-.94L8.5 2.5l-.94 2.06-2.06.94zm10 10l.94 2.06.94-2.06 2.06-.94-2.06-.94-.94-2.06-.94 2.06-2.06.94z\"/><path d=\"M17.41 7.96l-1.37-1.37c-.4-.4-.92-.59-1.43-.59-.52 0-1.04.2-1.43.59L10.3 9.45l-7.72 7.72c-.78.78-.78 2.05 0 2.83L4 21.41c.39.39.9.59 1.41.59.51 0 1.02-.2 1.41-.59l7.78-7.78 2.81-2.81c.8-.78.8-2.07 0-2.86zM5.41 20L4 18.59l7.72-7.72 1.47 1.35L5.41 20z\"/>\n",
              "  </svg>\n",
              "      </button>\n",
              "      \n",
              "  <style>\n",
              "    .colab-df-container {\n",
              "      display:flex;\n",
              "      flex-wrap:wrap;\n",
              "      gap: 12px;\n",
              "    }\n",
              "\n",
              "    .colab-df-convert {\n",
              "      background-color: #E8F0FE;\n",
              "      border: none;\n",
              "      border-radius: 50%;\n",
              "      cursor: pointer;\n",
              "      display: none;\n",
              "      fill: #1967D2;\n",
              "      height: 32px;\n",
              "      padding: 0 0 0 0;\n",
              "      width: 32px;\n",
              "    }\n",
              "\n",
              "    .colab-df-convert:hover {\n",
              "      background-color: #E2EBFA;\n",
              "      box-shadow: 0px 1px 2px rgba(60, 64, 67, 0.3), 0px 1px 3px 1px rgba(60, 64, 67, 0.15);\n",
              "      fill: #174EA6;\n",
              "    }\n",
              "\n",
              "    [theme=dark] .colab-df-convert {\n",
              "      background-color: #3B4455;\n",
              "      fill: #D2E3FC;\n",
              "    }\n",
              "\n",
              "    [theme=dark] .colab-df-convert:hover {\n",
              "      background-color: #434B5C;\n",
              "      box-shadow: 0px 1px 3px 1px rgba(0, 0, 0, 0.15);\n",
              "      filter: drop-shadow(0px 1px 2px rgba(0, 0, 0, 0.3));\n",
              "      fill: #FFFFFF;\n",
              "    }\n",
              "  </style>\n",
              "\n",
              "      <script>\n",
              "        const buttonEl =\n",
              "          document.querySelector('#df-0fe9a1f2-7f33-44a5-b44c-9efc335bb564 button.colab-df-convert');\n",
              "        buttonEl.style.display =\n",
              "          google.colab.kernel.accessAllowed ? 'block' : 'none';\n",
              "\n",
              "        async function convertToInteractive(key) {\n",
              "          const element = document.querySelector('#df-0fe9a1f2-7f33-44a5-b44c-9efc335bb564');\n",
              "          const dataTable =\n",
              "            await google.colab.kernel.invokeFunction('convertToInteractive',\n",
              "                                                     [key], {});\n",
              "          if (!dataTable) return;\n",
              "\n",
              "          const docLinkHtml = 'Like what you see? Visit the ' +\n",
              "            '<a target=\"_blank\" href=https://colab.research.google.com/notebooks/data_table.ipynb>data table notebook</a>'\n",
              "            + ' to learn more about interactive tables.';\n",
              "          element.innerHTML = '';\n",
              "          dataTable['output_type'] = 'display_data';\n",
              "          await google.colab.output.renderOutput(dataTable, element);\n",
              "          const docLink = document.createElement('div');\n",
              "          docLink.innerHTML = docLinkHtml;\n",
              "          element.appendChild(docLink);\n",
              "        }\n",
              "      </script>\n",
              "    </div>\n",
              "  </div>\n",
              "  "
            ]
          },
          "metadata": {},
          "execution_count": 18
        }
      ]
    },
    {
      "cell_type": "code",
      "execution_count": 19,
      "metadata": {
        "colab": {
          "base_uri": "https://localhost:8080/"
        },
        "id": "TQH7YpEXsu30",
        "outputId": "2312b81f-fc8f-4772-f10a-63ae90b1c6e5"
      },
      "outputs": [
        {
          "output_type": "stream",
          "name": "stdout",
          "text": [
            "2.799242657919795 2.989599866496873\n"
          ]
        }
      ],
      "source": [
        "# 협업필터링을 이용한 영화 추천 엔진\n",
        "\n",
        "n_users = data['user_id'].unique().shape[0] #943\n",
        "n_items = data['movie_id'].nunique() #1682\n",
        "\n",
        "#(943,1682)형태의 0으로 이루어진 행렬\n",
        "data_matrix = np.zeros((n_users, n_items)) \n",
        "\n",
        "# sparse matrix 형태로 구성, 위 zeros행렬에 각 값 대치\n",
        "for row in data.itertuples():\n",
        "  data_matrix[row[1]-1, row[2]-1]=row[3]\n",
        "# itertuple이용 행에 접근할 수 있는 iterator 생성\n",
        "# -1은 인덱스와 다르기 때문\n",
        "# row[1]-1: 사용자정보, row[2]-1: 영화정보, row[3]:평점\n",
        "\n",
        "# 훈련 데이터와 텍스트 데이터의 분리\n",
        "from sklearn.model_selection import train_test_split\n",
        "\n",
        "train, test = train_test_split(data_matrix, test_size=0.2, random_state=42)\n",
        "\n",
        "# 사용자 간 유사도 행렬 생성\n",
        "from sklearn.metrics.pairwise import cosine_distances\n",
        "\n",
        "cosine_distances(train)\n",
        "\n",
        "# 코사인 유사도: 내적 공간의 두 벡터의 사이각에 대한 코사인을 측정해 유사도를 나타내는 척도\n",
        "# cos(0) == 1, cos(θ) < 1\n",
        "# cosine distance함수로 벡터만 주면 바로 계산 가능\n",
        "distances = 1 - cosine_distances(train) # 자기자신을 1로 하도록 변경\n",
        "\n",
        "# 평가 예측 및 모델 성능 측정\n",
        "user_pred = distances.dot(train) / np.array([np.abs(distances).sum(axis=1)]).T\n",
        "# np.dot(). 행의 크기가 같아야 연산 가능\n",
        "# \n",
        "\n",
        "from sklearn.metrics import mean_squared_error\n",
        "def get_mse(pred, actual):\n",
        "  pred = pred[actual.nonzero()].flatten()\n",
        "  actual = actual[actual.nonzero()].flatten()\n",
        "  return mean_squared_error(pred, actual)\n",
        "\n",
        "# 훈련데이터 RMSE\n",
        "a = np.sqrt(get_mse(user_pred, train)) \n",
        "# 테스트 RMSE\n",
        "b = np.sqrt(get_mse(user_pred, test)) \n",
        "\n",
        "print(a,b)"
      ]
    },
    {
      "cell_type": "code",
      "source": [
        "data_matrix"
      ],
      "metadata": {
        "colab": {
          "base_uri": "https://localhost:8080/"
        },
        "id": "n9q8_yCS95FH",
        "outputId": "9e34eaa1-dc33-416d-bb51-73b12fdf2679"
      },
      "execution_count": 20,
      "outputs": [
        {
          "output_type": "execute_result",
          "data": {
            "text/plain": [
              "array([[5., 3., 4., ..., 0., 0., 0.],\n",
              "       [4., 0., 0., ..., 0., 0., 0.],\n",
              "       [0., 0., 0., ..., 0., 0., 0.],\n",
              "       ...,\n",
              "       [5., 0., 0., ..., 0., 0., 0.],\n",
              "       [0., 0., 0., ..., 0., 0., 0.],\n",
              "       [0., 5., 0., ..., 0., 0., 0.]])"
            ]
          },
          "metadata": {},
          "execution_count": 20
        }
      ]
    }
  ]
}