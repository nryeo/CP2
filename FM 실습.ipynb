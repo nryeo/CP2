{
  "nbformat": 4,
  "nbformat_minor": 0,
  "metadata": {
    "colab": {
      "provenance": []
    },
    "kernelspec": {
      "name": "python3",
      "display_name": "Python 3"
    },
    "language_info": {
      "name": "python"
    }
  },
  "cells": [
    {
      "cell_type": "code",
      "execution_count": null,
      "metadata": {
        "id": "-s3rzgNCtJW6"
      },
      "outputs": [],
      "source": [
        "import numpy as np\n",
        "import pandas as pd\n",
        "from sklearn.utils import shuffle"
      ]
    },
    {
      "cell_type": "code",
      "source": [
        "r_cols =['user_id','movie_id','rating','timestamp']\n",
        "ratings = pd.read_csv('/content/drive/MyDrive/CP2/ml-100k/u.data', sep='\\t',names = r_cols, encoding ='latin-1')"
      ],
      "metadata": {
        "id": "BToT_VvetSDP"
      },
      "execution_count": null,
      "outputs": []
    },
    {
      "cell_type": "code",
      "source": [
        "#user encoding\n",
        "user_dict = {}\n",
        "for i in set(ratings['user_id']):\n",
        "  user_dict[i] = len(user_dict)\n",
        "n_user = len(user_dict)\n",
        "\n",
        "#item encoding\n",
        "item_dict = {}\n",
        "start_point = n_user\n",
        "for i in set(ratings['movie_id']):\n",
        "    item_dict[i] = start_point + len(item_dict)\n",
        "n_item = len(item_dict)\n",
        "start_point += n_item\n",
        "num_x = start_point\n",
        "ratings = shuffle(ratings, random_state=1)\n",
        "\n",
        "#generate x data\n",
        "#[user_index, movie_index], [user]\n",
        "data = []\n",
        "y = []\n",
        "w0 = np.mean(ratings['rating'])\n",
        "for i in range(len(ratings)):\n",
        "  case = ratings.iloc[i]\n",
        "  x_index = []\n",
        "  x_value = []\n",
        "  x_index.append(user_dict[case['user_id']])\n",
        "  x_value.append(1)\n",
        "  x_index.append(item_dict[case['movie_id']])\n",
        "  x_value.append(1)\n",
        "  data.append([x_index, x_value])\n",
        "  y.append(case['rating'] - w0)\n",
        "  if (i%10000) ==0:\n",
        "    print('Encoding', i, 'cases...')"
      ],
      "metadata": {
        "id": "wPCFYlv9tvEw",
        "colab": {
          "base_uri": "https://localhost:8080/"
        },
        "outputId": "88908451-8e9b-404d-ccd5-bc3c484be089"
      },
      "execution_count": null,
      "outputs": [
        {
          "output_type": "stream",
          "name": "stdout",
          "text": [
            "Encoding 0 cases...\n",
            "Encoding 10000 cases...\n",
            "Encoding 20000 cases...\n",
            "Encoding 30000 cases...\n",
            "Encoding 40000 cases...\n",
            "Encoding 50000 cases...\n",
            "Encoding 60000 cases...\n",
            "Encoding 70000 cases...\n",
            "Encoding 80000 cases...\n",
            "Encoding 90000 cases...\n"
          ]
        }
      ]
    },
    {
      "cell_type": "code",
      "source": [
        "#np.array(data[1]).reshape(-1,1)"
      ],
      "metadata": {
        "id": "Fcz7KPRTv8SS"
      },
      "execution_count": null,
      "outputs": []
    },
    {
      "cell_type": "code",
      "source": [
        "#w = np.random.normal(scale=1./num_x, size=(num_x))"
      ],
      "metadata": {
        "id": "ujp49VcUwizL"
      },
      "execution_count": null,
      "outputs": []
    },
    {
      "cell_type": "code",
      "source": [
        "#type(w)"
      ],
      "metadata": {
        "id": "pA9zH8ehwrz4"
      },
      "execution_count": null,
      "outputs": []
    },
    {
      "cell_type": "code",
      "source": [
        "#cutoff = int(0.75* len(data))\n",
        "# train_x = data[:cutoff]\n",
        "# test_x = data[cutoff:]\n",
        "# train_y = y[:cutoff]\n",
        "# test_y = y[cutoff:]"
      ],
      "metadata": {
        "id": "Ct1clcigxxYT"
      },
      "execution_count": null,
      "outputs": []
    },
    {
      "cell_type": "code",
      "source": [
        "# for data, y in zip(train_x, train_y):\n",
        "#       x_idx = data[0]\n",
        "#       x_0 = np.array(data[1])\n",
        "#       x_1 = x_0.reshape(-1,1)"
      ],
      "metadata": {
        "id": "GMW8ajSLxLNG"
      },
      "execution_count": null,
      "outputs": []
    },
    {
      "cell_type": "code",
      "source": [
        "def RMSE(y_true, y_pred):\n",
        "  return np.sqrt(np.mean((np.array(y_true) - np.array(y_pred))**2))\n",
        "\n",
        "class FM():\n",
        "  def __init__(self, N, K, data, y, alpha, beta, train_ratio=0.75, iterations=100, tolerance=0.005, l2_reg=True, verbose=True):\n",
        "    self.K = K    #no of latent factors\n",
        "    self.N = N    #no of x variables\n",
        "    self.n_cases = len(data)\n",
        "    self.alpha = alpha\n",
        "    self.beta = beta\n",
        "    self.iterations = iterations\n",
        "    self.l2_reg = l2_reg\n",
        "    self.tolerance = tolerance\n",
        "    self.verbose = verbose\n",
        "\n",
        "    # w 초기화  변수의 편향\n",
        "    self.w = np.random.normal(scale=1./self.N, size=(self.N))\n",
        "    # v 초기화  잠재요인행렬\n",
        "    self.v = np.random.normal(scale=1./self.K, size=(self.N, self.K))\n",
        "    #Train/ Test 분리\n",
        "    cutoff = int(train_ratio* len(data))\n",
        "    self.train_x = data[:cutoff]\n",
        "    self.test_x = data[cutoff:]\n",
        "    self.train_y = y[:cutoff]\n",
        "    self.test_y = y[cutoff:]\n",
        "\n",
        "  #학습 함수\n",
        "  def test(self):\n",
        "    best_RMSE = 10000\n",
        "    best_iteration = 0\n",
        "    training_process = []  #학습과정을 기록\n",
        "    for i in range(self.iterations):\n",
        "      rmse1 = self.sgd(self.train_x, self.train_y)\n",
        "      rmse2 = self.test_rmse(self.test_x, self.test_y)\n",
        "      training_process.append((i,rmse1,rmse2))\n",
        "      if self.verbose:\n",
        "        if(i+1) % 10 == 0:\n",
        "          print(\"Iteration: %d ; Train RMSE = %.6f ; Test RMSE = %.6f\" % (i+1, rmse1, rmse2))\n",
        "      #기존의 RMSE보다 향상되었으면 새로운 RMSE 와 iteration기록\n",
        "      if best_RMSE> rmse2:\n",
        "        best_RMSE = rmse2\n",
        "        best_iteration = i\n",
        "      elif(rmse2 - best_RMSE) >self.tolerance:\n",
        "\n",
        "        break\n",
        "    print(best_iteration, best_RMSE)\n",
        "    return training_process\n",
        "  #sgd 실행\n",
        "  def sgd(self, x_data,  y_data):\n",
        "    y_pred = []\n",
        "    for data, y in zip(x_data, y_data):\n",
        "      x_idx = data[0]\n",
        "      x_0 = np.array(data[1])\n",
        "      x_1 = x_0.reshape(-1,1)\n",
        "\n",
        "      bias_score = np.sum(self.w[x_idx]*x_0)\n",
        "      vx = self.v[x_idx]*(x_1)\n",
        "      sum_vx = np.sum(vx, axis=0)\n",
        "      sum_vx_2 = np.sum(vx*vx, axis=0)\n",
        "      latent_score = 0.5*np.sum(np.square(sum_vx) - sum_vx_2)\n",
        "\n",
        "      y_hat = bias_score + latent_score\n",
        "      y_pred.append(y_hat)\n",
        "      error = y - y_hat\n",
        "\n",
        "      if self.l2_reg:\n",
        "        self.w[x_idx] += error*self.alpha*(x_0 - self.beta*self.w[x_idx])\n",
        "        self.v[x_idx] += error*self.alpha*((x_1)*sum(vx) - (vx*x_1) - self.beta*self.v[x_idx])\n",
        "      else:\n",
        "        self.w[x_idx] += error*self.alpha*x_0\n",
        "        self.v[x_idx] += error*self.alpha*((x_1)*sum(vx) - (vx*x_1))\n",
        "    return RMSE(y_data, y_pred)\n",
        "\n",
        "  def test_rmse(self, x_data, y_data):\n",
        "    y_pred =[]\n",
        "    for data, y in zip(x_data, y_data):\n",
        "      y_hat = self.predict(data[0], data[1])\n",
        "      y_pred.append(y_hat)\n",
        "    return RMSE(y_data, y_pred)\n",
        "  \n",
        "  def predict(self, idx, x):\n",
        "    x_0 = np.array(x)\n",
        "    x_1 = x_0.reshape(-1,1)\n",
        "    bias_score =  np.sum(self.w[idx]*x_0)\n",
        "\n",
        "    vx = self.v[idx]*(x_1)\n",
        "    sum_vx = np.sum(vx, axis=0)\n",
        "    sum_vx_2 = np.sum(vx*vx,axis=0)\n",
        "    latent_score = 0.5*np.sum(np.square(sum_vx)-sum_vx_2)\n",
        "\n",
        "    y_hat = bias_score + latent_score\n",
        "    return y_hat\n",
        "\n",
        "K=350\n",
        "fm1 = FM(num_x, K, data, y, alpha=0.0014, beta=0.075, train_ratio=0.75, iterations=600, tolerance=0.0005, l2_reg=True, verbose=True)\n",
        "result = fm1.test()\n",
        "\n",
        "\n",
        "\n",
        "\n"
      ],
      "metadata": {
        "id": "PqesN8BAuQQ5",
        "colab": {
          "base_uri": "https://localhost:8080/"
        },
        "outputId": "5103b33e-8feb-41fe-fb85-61868709316e"
      },
      "execution_count": null,
      "outputs": [
        {
          "output_type": "stream",
          "name": "stdout",
          "text": [
            "Iteration: 10 ; Train RMSE = 0.958511 ; Test RMSE = 0.965309\n",
            "Iteration: 20 ; Train RMSE = 0.936597 ; Test RMSE = 0.949987\n",
            "Iteration: 30 ; Train RMSE = 0.927652 ; Test RMSE = 0.944258\n",
            "Iteration: 40 ; Train RMSE = 0.922805 ; Test RMSE = 0.941442\n",
            "Iteration: 50 ; Train RMSE = 0.919652 ; Test RMSE = 0.939835\n",
            "Iteration: 60 ; Train RMSE = 0.917090 ; Test RMSE = 0.938739\n",
            "Iteration: 70 ; Train RMSE = 0.914255 ; Test RMSE = 0.937713\n",
            "Iteration: 80 ; Train RMSE = 0.909994 ; Test RMSE = 0.936253\n",
            "Iteration: 90 ; Train RMSE = 0.902500 ; Test RMSE = 0.933620\n",
            "Iteration: 100 ; Train RMSE = 0.889812 ; Test RMSE = 0.929166\n",
            "Iteration: 110 ; Train RMSE = 0.871740 ; Test RMSE = 0.923433\n",
            "Iteration: 120 ; Train RMSE = 0.849695 ; Test RMSE = 0.917914\n",
            "Iteration: 130 ; Train RMSE = 0.823825 ; Test RMSE = 0.913204\n",
            "Iteration: 140 ; Train RMSE = 0.793240 ; Test RMSE = 0.909307\n",
            "Iteration: 150 ; Train RMSE = 0.757716 ; Test RMSE = 0.906462\n",
            "Iteration: 160 ; Train RMSE = 0.718162 ; Test RMSE = 0.905007\n",
            "Iteration: 170 ; Train RMSE = 0.676001 ; Test RMSE = 0.905068\n",
            "164 0.9048507227487081\n"
          ]
        }
      ]
    }
  ]
}