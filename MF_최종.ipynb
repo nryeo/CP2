{
  "nbformat": 4,
  "nbformat_minor": 0,
  "metadata": {
    "colab": {
      "provenance": [],
      "authorship_tag": "ABX9TyMGI2Raslakg+J6WfMdmehS",
      "include_colab_link": true
    },
    "kernelspec": {
      "name": "python3",
      "display_name": "Python 3"
    },
    "language_info": {
      "name": "python"
    }
  },
  "cells": [
    {
      "cell_type": "markdown",
      "metadata": {
        "id": "view-in-github",
        "colab_type": "text"
      },
      "source": [
        "<a href=\"https://colab.research.google.com/github/stebechoi/CP2/blob/YJ/MF_%EC%B5%9C%EC%A2%85.ipynb\" target=\"_parent\"><img src=\"https://colab.research.google.com/assets/colab-badge.svg\" alt=\"Open In Colab\"/></a>"
      ]
    },
    {
      "cell_type": "code",
      "execution_count": 1,
      "metadata": {
        "id": "7HoVO2ChXWEs"
      },
      "outputs": [],
      "source": [
        "import numpy as np\n",
        "import pandas as pd\n",
        "from sklearn.utils import shuffle"
      ]
    },
    {
      "cell_type": "code",
      "source": [
        "from google.colab import drive\n",
        "drive.mount('/content/drive')"
      ],
      "metadata": {
        "colab": {
          "base_uri": "https://localhost:8080/"
        },
        "id": "ajdwSQn4XXoE",
        "outputId": "ca3e1fb1-1637-4902-8648-f26bd6ee105f"
      },
      "execution_count": 2,
      "outputs": [
        {
          "output_type": "stream",
          "name": "stdout",
          "text": [
            "Mounted at /content/drive\n"
          ]
        }
      ]
    },
    {
      "cell_type": "markdown",
      "source": [
        "## 데이터 불러오기"
      ],
      "metadata": {
        "id": "6vYY1XIZYJg_"
      }
    },
    {
      "cell_type": "code",
      "source": [
        "data_path = '/content/drive/MyDrive/CP2/ml-100k/'\n",
        "r_cols = ['user_id','movie_id','rating','timestamp']\n",
        "ratings = pd.read_csv(data_path + \"u.data\",names=r_cols, sep='\\t',encoding='latin-1')\n",
        "ratings = ratings[['user_id','movie_id','rating']].astype(int) #timestamp 제거\n",
        "\n",
        "u_cols = ['user_id','age','sex','occupation','zip_code']\n",
        "users = pd.read_csv('/content/drive/MyDrive/CP2/ml-100k/u.user',sep='\\|',names=u_cols,encoding='latin-1')\n",
        "users = users[['user_id','occupation']]\n",
        "\n",
        "item_df = pd.read_csv(data_path + 'u.item', sep='|', encoding='latin-1', header=None,\n",
        "                        names=['movie_id', 'movie_title', 'release_date', 'video_release_date',\n",
        "                               'IMDb_URL', 'unknown', 'Action', 'Adventure', 'Animation',\n",
        "                               'Childrens', 'Comedy', 'Crime', 'Documentary', 'Drama',\n",
        "                               'Fantasy', 'Film-Noir', 'Horror', 'Musical', 'Mystery',\n",
        "                               'Romance', 'Sci-Fi', 'Thriller', 'War', 'Western'])\n",
        "\n",
        "item_df = item_df.iloc[:,:2]"
      ],
      "metadata": {
        "colab": {
          "base_uri": "https://localhost:8080/"
        },
        "id": "n-FUN76jXX7o",
        "outputId": "6a00b426-140b-4f62-a31e-b9837eb66468"
      },
      "execution_count": 4,
      "outputs": [
        {
          "output_type": "stream",
          "name": "stderr",
          "text": [
            "<ipython-input-4-c14f7b272e65>:7: ParserWarning: Falling back to the 'python' engine because the 'c' engine does not support regex separators (separators > 1 char and different from '\\s+' are interpreted as regex); you can avoid this warning by specifying engine='python'.\n",
            "  users = pd.read_csv('/content/drive/MyDrive/CP2/ml-100k/u.user',sep='\\|',names=u_cols,encoding='latin-1')\n"
          ]
        }
      ]
    },
    {
      "cell_type": "markdown",
      "source": [
        "## 데이터 병합"
      ],
      "metadata": {
        "id": "yNONW5i4YQ0y"
      }
    },
    {
      "cell_type": "code",
      "source": [
        "ratingcount = ratings.groupby(['movie_id'])['rating'].count().reset_index().rename(columns = {'rating': 'TotalRatingCount'})\n",
        "n_ratings = pd.merge(ratings,ratingcount,how='left',on='movie_id')\n",
        "n_ratings = pd.merge(n_ratings,item_df,how='left', on='movie_id')\n",
        "\n",
        "df_movie_100 = n_ratings[n_ratings['TotalRatingCount']>=100]\n",
        "df_movie_100 = df_movie_100.reset_index(drop=True)\n",
        "ratings = df_movie_100.iloc[:,:3]"
      ],
      "metadata": {
        "id": "PkMAh161XX_M"
      },
      "execution_count": 5,
      "outputs": []
    },
    {
      "cell_type": "markdown",
      "source": [
        "## Train / Test"
      ],
      "metadata": {
        "id": "k_qlbXFhYaIc"
      }
    },
    {
      "cell_type": "code",
      "source": [
        "train_size = 0.75\n",
        "ratings = shuffle(ratings, random_state=1)\n",
        "cutoff = int(train_size*len(ratings))\n",
        "ratings_train = ratings.iloc[:cutoff]\n",
        "ratings_test = ratings.iloc[cutoff:]"
      ],
      "metadata": {
        "id": "gA7f7y89XYDE"
      },
      "execution_count": 6,
      "outputs": []
    },
    {
      "cell_type": "markdown",
      "source": [
        "## MF 모델"
      ],
      "metadata": {
        "id": "q6t6WJKdYfFj"
      }
    },
    {
      "cell_type": "code",
      "source": [
        "class MF():\n",
        "  def __init__(self, ratings, K, alpha, beta, iterations, verbose=True):\n",
        "    self.R = np.array(ratings)\n",
        "    self.num_users, self.num_items = np.shape(self.R)\n",
        "    self.K = K\n",
        "    self.alpha = alpha\n",
        "    self.beta = beta\n",
        "    self.iterations = iterations\n",
        "    self.verbose = verbose\n",
        "    #사용자와 아이템의 인덱스를 매핑해줌. pivot으로 만든 데이터프레임을 변수로 넣어줄예정\n",
        "    item_id_index = []\n",
        "    index_item_id = []\n",
        "    for i, one_id in enumerate(ratings):\n",
        "      item_id_index.append([one_id, i])\n",
        "      index_item_id.append([i, one_id])\n",
        "    self.item_id_index = dict(item_id_index)\n",
        "    self.index_item_id = dict(index_item_id)\n",
        "    user_id_index = []\n",
        "    index_user_id = []\n",
        "    for i, one_id in enumerate(ratings.T):\n",
        "      user_id_index.append([one_id, i])\n",
        "      index_user_id.append([i, one_id])\n",
        "    self.user_id_index = dict(user_id_index)\n",
        "    self.index_user_id = dict(index_user_id)\n",
        "\n",
        "    # self.test_matrix = np.zeros((self.num_users, self.num_items))\n",
        "    # for row in ratings_test.itertuples():\n",
        "    #     self.test_matrix[row[1]-1, row[2]-1] = row[3]\n",
        "\n",
        "  def rmse(self):\n",
        "    xs, ys = self.R.nonzero()\n",
        "    #평점이 있는(0이 아닌) 요소의 인덱스를 가져온다\n",
        "    self.predictions = []\n",
        "    self.errors = []\n",
        "    for x,y in zip(xs,ys):\n",
        "      prediction = self.get_prediction(x,y)\n",
        "      self.predictions.append(prediction)\n",
        "      self.errors.append(self.R[x,y]-prediction)\n",
        "    self.predictions = np.array(self.predictions)\n",
        "    self.errors = np.array(self.errors)\n",
        "    \n",
        "    return np.sqrt(np.mean(self.errors**2))\n",
        "  \n",
        "  def set_test(self, ratings_test):\n",
        "    test_set = []\n",
        "    for i in range(len(ratings_test)):\n",
        "      x = self.user_id_index[ratings_test.iloc[i,0]]\n",
        "      y = self.item_id_index[ratings_test.iloc[i,1]]\n",
        "      z = ratings_test.iloc[i,2]\n",
        "      test_set.append([x,y,z])\n",
        "      self.R[x,y] = 0\n",
        "    self.test_set = test_set\n",
        "    return test_set\n",
        "\n",
        "  def test_rmse(self):\n",
        "    error = 0\n",
        "    for one_set in self.test_set:\n",
        "      predicted = self.get_prediction(one_set[0], one_set[1])\n",
        "      error += pow(one_set[2] - predicted, 2)\n",
        "    return np.sqrt(error/len(self.test_set))\n",
        "\n",
        "  def test(self):\n",
        "    self.P = np.random.normal(scale=1./self.K, size=(self.num_users,self.K))\n",
        "    self.Q = np.random.normal(scale=1./self.K, size=(self.num_items,self.K))\n",
        "\n",
        "    self.b_u = np.zeros(self.num_users)\n",
        "    self.b_d = np.zeros(self.num_items)\n",
        "    self.b = np.mean(self.R[self.R.nonzero()])\n",
        "\n",
        "    rows, columns = self.R.nonzero()\n",
        "    self.samples = [(i,j,self.R[i,j]) for i,j in zip(rows, columns)]\n",
        "\n",
        "    training_process=[]\n",
        "    for i in range(self.iterations):\n",
        "      np.random.shuffle(self.samples)\n",
        "      self.sgd()\n",
        "      rmse1 = self.rmse()\n",
        "      rmse2 = self.test_rmse()\n",
        "      training_process.append((i+1, rmse1, rmse2))\n",
        "      if self.verbose:\n",
        "        if (i+1)%10 ==0:\n",
        "          print(\"Iteration: %d ; Train RMSE = %.4f; Test RMSE = %.4f\" % (i+1,rmse1, rmse2))\n",
        "    return training_process\n",
        "\n",
        "\n",
        "  def get_one_prediction(self, user_id, item_id):\n",
        "    return self.get_prediction(self.user_id_index[user_id], self.item_id_index[item_id])\n",
        "\n",
        "  def full_prediction(self):\n",
        "    return self.b + self.b_u[:, np.newaxis] + self.b_d[np.newaxis, :] + self.P.dot(self.Q.T)\n",
        "\n",
        "  def sgd(self):\n",
        "    for i,j,r in self.samples:\n",
        "      prediction = self.get_prediction(i,j)\n",
        "      e = (r - prediction)\n",
        "\n",
        "      self.b_u[i] += self.alpha * (e - self.beta * self.b_u[i])\n",
        "      self.b_d[j] += self.alpha * (e - self.beta * self.b_d[j])\n",
        "\n",
        "      self.P[i,:] += self.alpha * (e*self.Q[j,:] - self.beta*self.P[i,:])\n",
        "      self.Q[j,:] += self.alpha * (e*self.P[i,:] - self.beta*self.Q[j,:])\n",
        "\n",
        "  def get_prediction(self,i,j):\n",
        "    prediction = self.b + self.b_u[i] + self.b_d[j] + self.P[i,:].dot(self.Q[j,:].T)\n",
        "    return prediction\n",
        "\n",
        "  def recommendation(self, user_idx,N):\n",
        "    user_ratings = self.full_prediction()[user_idx-1]\n",
        "    top_N_indices = np.argsort(user_ratings)[-N:]\n",
        "    rec_list = []\n",
        "    for i, r in item_df.iterrows():\n",
        "      if i in top_N_indices:\n",
        "        rec_list.append(r['movie_title'])\n",
        "    return rec_list\n",
        "\n",
        "\n",
        "  def precision_and_recall(self, k=10):\n",
        "        user_precision_at_k = []\n",
        "        user_recall_at_k = []\n",
        "        \n",
        "        for user_idx in range(self.num_users):\n",
        "            user_ratings = self.R[user_idx]\n",
        "            user_predicted_ratings = self.full_prediction()[user_idx]\n",
        "\n",
        "            # 관심있는 아이템 (실제 평점이 있는 아이템) 인덱스 추출\n",
        "            relevant_items = np.nonzero(user_ratings > 0)[0]\n",
        "\n",
        "            if len(relevant_items) == 0:\n",
        "                continue\n",
        "\n",
        "            # 예측 평점 상위 k개 아이템 인덱스 추출\n",
        "            top_k_items = np.argsort(user_predicted_ratings)[-k:]\n",
        "\n",
        "            # 추천된 상위 k개 아이템 중 관심있는 아이템의 비율 계산\n",
        "            hits = len(np.intersect1d(relevant_items, top_k_items))\n",
        "            precision = hits / k\n",
        "            recall = hits / len(relevant_items)\n",
        "            user_precision_at_k.append(precision)\n",
        "            user_recall_at_k.append(recall)\n",
        "\n",
        "        # 전체 사용자의 precision@k 평균 계산\n",
        "        mean_precision_at_k = np.mean(user_precision_at_k)\n",
        "        mean_recall_at_k = np.mean(user_recall_at_k)\n",
        "        print('Precision@{}: {:.4f},  Recall@{}: {:.4f}'.format(k, mean_precision_at_k,k,mean_recall_at_k))"
      ],
      "metadata": {
        "id": "UqpklJcUXYJw"
      },
      "execution_count": 7,
      "outputs": []
    },
    {
      "cell_type": "code",
      "source": [
        "R_temp = ratings.pivot(index='user_id', columns='movie_id', values='rating').fillna(0)\n",
        "\n",
        "mf = MF(R_temp, K=30, alpha=0.001, beta=0.02, iterations=20, verbose=True)\n",
        "test_set = mf.set_test(ratings_test)\n",
        "result = mf.test()"
      ],
      "metadata": {
        "colab": {
          "base_uri": "https://localhost:8080/"
        },
        "id": "7Y9XWAj6XYVU",
        "outputId": "4682675f-89ea-46fa-bc3d-705effed6711"
      },
      "execution_count": 8,
      "outputs": [
        {
          "output_type": "stream",
          "name": "stdout",
          "text": [
            "Iteration: 10 ; Train RMSE = 0.9335; Test RMSE = 0.9410\n",
            "Iteration: 20 ; Train RMSE = 0.9138; Test RMSE = 0.9261\n"
          ]
        }
      ]
    },
    {
      "cell_type": "markdown",
      "source": [
        "## 추천 리스트"
      ],
      "metadata": {
        "id": "fySTOdtUY7C_"
      }
    },
    {
      "cell_type": "code",
      "source": [
        "a = mf.recommendation(1,3)\n",
        "\n",
        "recommend_df = pd.DataFrame (a, columns = ['recommendation'])\n",
        "recommend_df"
      ],
      "metadata": {
        "colab": {
          "base_uri": "https://localhost:8080/",
          "height": 143
        },
        "id": "tJiw-cEPX1MD",
        "outputId": "1b9a1c9c-76a1-458d-d072-8611a4446c2c"
      },
      "execution_count": 9,
      "outputs": [
        {
          "output_type": "execute_result",
          "data": {
            "text/plain": [
              "         recommendation\n",
              "0  Belle de jour (1967)\n",
              "1     Unforgiven (1992)\n",
              "2          Steel (1997)"
            ],
            "text/html": [
              "\n",
              "  <div id=\"df-7c81c512-354d-4675-98ea-2910adf5b33e\">\n",
              "    <div class=\"colab-df-container\">\n",
              "      <div>\n",
              "<style scoped>\n",
              "    .dataframe tbody tr th:only-of-type {\n",
              "        vertical-align: middle;\n",
              "    }\n",
              "\n",
              "    .dataframe tbody tr th {\n",
              "        vertical-align: top;\n",
              "    }\n",
              "\n",
              "    .dataframe thead th {\n",
              "        text-align: right;\n",
              "    }\n",
              "</style>\n",
              "<table border=\"1\" class=\"dataframe\">\n",
              "  <thead>\n",
              "    <tr style=\"text-align: right;\">\n",
              "      <th></th>\n",
              "      <th>recommendation</th>\n",
              "    </tr>\n",
              "  </thead>\n",
              "  <tbody>\n",
              "    <tr>\n",
              "      <th>0</th>\n",
              "      <td>Belle de jour (1967)</td>\n",
              "    </tr>\n",
              "    <tr>\n",
              "      <th>1</th>\n",
              "      <td>Unforgiven (1992)</td>\n",
              "    </tr>\n",
              "    <tr>\n",
              "      <th>2</th>\n",
              "      <td>Steel (1997)</td>\n",
              "    </tr>\n",
              "  </tbody>\n",
              "</table>\n",
              "</div>\n",
              "      <button class=\"colab-df-convert\" onclick=\"convertToInteractive('df-7c81c512-354d-4675-98ea-2910adf5b33e')\"\n",
              "              title=\"Convert this dataframe to an interactive table.\"\n",
              "              style=\"display:none;\">\n",
              "        \n",
              "  <svg xmlns=\"http://www.w3.org/2000/svg\" height=\"24px\"viewBox=\"0 0 24 24\"\n",
              "       width=\"24px\">\n",
              "    <path d=\"M0 0h24v24H0V0z\" fill=\"none\"/>\n",
              "    <path d=\"M18.56 5.44l.94 2.06.94-2.06 2.06-.94-2.06-.94-.94-2.06-.94 2.06-2.06.94zm-11 1L8.5 8.5l.94-2.06 2.06-.94-2.06-.94L8.5 2.5l-.94 2.06-2.06.94zm10 10l.94 2.06.94-2.06 2.06-.94-2.06-.94-.94-2.06-.94 2.06-2.06.94z\"/><path d=\"M17.41 7.96l-1.37-1.37c-.4-.4-.92-.59-1.43-.59-.52 0-1.04.2-1.43.59L10.3 9.45l-7.72 7.72c-.78.78-.78 2.05 0 2.83L4 21.41c.39.39.9.59 1.41.59.51 0 1.02-.2 1.41-.59l7.78-7.78 2.81-2.81c.8-.78.8-2.07 0-2.86zM5.41 20L4 18.59l7.72-7.72 1.47 1.35L5.41 20z\"/>\n",
              "  </svg>\n",
              "      </button>\n",
              "      \n",
              "  <style>\n",
              "    .colab-df-container {\n",
              "      display:flex;\n",
              "      flex-wrap:wrap;\n",
              "      gap: 12px;\n",
              "    }\n",
              "\n",
              "    .colab-df-convert {\n",
              "      background-color: #E8F0FE;\n",
              "      border: none;\n",
              "      border-radius: 50%;\n",
              "      cursor: pointer;\n",
              "      display: none;\n",
              "      fill: #1967D2;\n",
              "      height: 32px;\n",
              "      padding: 0 0 0 0;\n",
              "      width: 32px;\n",
              "    }\n",
              "\n",
              "    .colab-df-convert:hover {\n",
              "      background-color: #E2EBFA;\n",
              "      box-shadow: 0px 1px 2px rgba(60, 64, 67, 0.3), 0px 1px 3px 1px rgba(60, 64, 67, 0.15);\n",
              "      fill: #174EA6;\n",
              "    }\n",
              "\n",
              "    [theme=dark] .colab-df-convert {\n",
              "      background-color: #3B4455;\n",
              "      fill: #D2E3FC;\n",
              "    }\n",
              "\n",
              "    [theme=dark] .colab-df-convert:hover {\n",
              "      background-color: #434B5C;\n",
              "      box-shadow: 0px 1px 3px 1px rgba(0, 0, 0, 0.15);\n",
              "      filter: drop-shadow(0px 1px 2px rgba(0, 0, 0, 0.3));\n",
              "      fill: #FFFFFF;\n",
              "    }\n",
              "  </style>\n",
              "\n",
              "      <script>\n",
              "        const buttonEl =\n",
              "          document.querySelector('#df-7c81c512-354d-4675-98ea-2910adf5b33e button.colab-df-convert');\n",
              "        buttonEl.style.display =\n",
              "          google.colab.kernel.accessAllowed ? 'block' : 'none';\n",
              "\n",
              "        async function convertToInteractive(key) {\n",
              "          const element = document.querySelector('#df-7c81c512-354d-4675-98ea-2910adf5b33e');\n",
              "          const dataTable =\n",
              "            await google.colab.kernel.invokeFunction('convertToInteractive',\n",
              "                                                     [key], {});\n",
              "          if (!dataTable) return;\n",
              "\n",
              "          const docLinkHtml = 'Like what you see? Visit the ' +\n",
              "            '<a target=\"_blank\" href=https://colab.research.google.com/notebooks/data_table.ipynb>data table notebook</a>'\n",
              "            + ' to learn more about interactive tables.';\n",
              "          element.innerHTML = '';\n",
              "          dataTable['output_type'] = 'display_data';\n",
              "          await google.colab.output.renderOutput(dataTable, element);\n",
              "          const docLink = document.createElement('div');\n",
              "          docLink.innerHTML = docLinkHtml;\n",
              "          element.appendChild(docLink);\n",
              "        }\n",
              "      </script>\n",
              "    </div>\n",
              "  </div>\n",
              "  "
            ]
          },
          "metadata": {},
          "execution_count": 9
        }
      ]
    },
    {
      "cell_type": "markdown",
      "source": [
        "## Precision@k / Recall@k"
      ],
      "metadata": {
        "id": "sZrhNzX9Yz5T"
      }
    },
    {
      "cell_type": "code",
      "source": [
        "mf.precision_and_recall(k=5)"
      ],
      "metadata": {
        "colab": {
          "base_uri": "https://localhost:8080/"
        },
        "id": "Adb-eki-X2zz",
        "outputId": "d8f4ac68-a243-41ca-afb6-c34f50f93cbc"
      },
      "execution_count": 10,
      "outputs": [
        {
          "output_type": "stream",
          "name": "stdout",
          "text": [
            "Precision@5: 0.2467,  Recall@5: 0.0225\n"
          ]
        }
      ]
    }
  ]
}