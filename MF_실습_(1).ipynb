{
  "nbformat": 4,
  "nbformat_minor": 0,
  "metadata": {
    "colab": {
      "provenance": [],
      "include_colab_link": true
    },
    "kernelspec": {
      "name": "python3",
      "display_name": "Python 3"
    },
    "language_info": {
      "name": "python"
    }
  },
  "cells": [
    {
      "cell_type": "markdown",
      "metadata": {
        "id": "view-in-github",
        "colab_type": "text"
      },
      "source": [
        "<a href=\"https://colab.research.google.com/github/stebechoi/CP2/blob/YJ/MF_%E1%84%89%E1%85%B5%E1%86%AF%E1%84%89%E1%85%B3%E1%86%B8_(1).ipynb\" target=\"_parent\"><img src=\"https://colab.research.google.com/assets/colab-badge.svg\" alt=\"Open In Colab\"/></a>"
      ]
    },
    {
      "cell_type": "code",
      "execution_count": 1,
      "metadata": {
        "id": "bev1Iz5VJel2"
      },
      "outputs": [],
      "source": [
        "import numpy as np\n",
        "import pandas as pd\n",
        "from sklearn.metrics import precision_score"
      ]
    },
    {
      "cell_type": "code",
      "source": [
        "from google.colab import drive\n",
        "drive.mount('/content/drive')"
      ],
      "metadata": {
        "colab": {
          "base_uri": "https://localhost:8080/"
        },
        "id": "wyNMYSXre78V",
        "outputId": "084b495c-eb45-491b-ff00-72ccb60fa0ff"
      },
      "execution_count": 2,
      "outputs": [
        {
          "output_type": "stream",
          "name": "stdout",
          "text": [
            "Mounted at /content/drive\n"
          ]
        }
      ]
    },
    {
      "cell_type": "code",
      "source": [
        "r_cols = ['user_id','movie_id','rating','timestamp']\n",
        "ratings = pd.read_csv(\"/content/drive/MyDrive/CP2/ml-100k/u.data\",names=r_cols, sep='\\t',encoding='latin-1')\n",
        "ratings = ratings[['user_id','movie_id','rating']].astype(int) #timestamp 제거"
      ],
      "metadata": {
        "id": "q82qVpHpJjqn"
      },
      "execution_count": 3,
      "outputs": []
    },
    {
      "cell_type": "code",
      "source": [
        "u_cols = ['user_id','age','sex','occupation','zip_code']\n",
        "users = pd.read_csv('/content/drive/MyDrive/CP2/ml-100k/u.user',sep='\\|',names=u_cols,encoding='latin-1')\n",
        "users = users[['user_id','occupation']]"
      ],
      "metadata": {
        "colab": {
          "base_uri": "https://localhost:8080/"
        },
        "id": "W5zPHlOnxLfe",
        "outputId": "496e4521-2610-4ec1-b40f-4e7f6a72ada4"
      },
      "execution_count": 4,
      "outputs": [
        {
          "output_type": "stream",
          "name": "stderr",
          "text": [
            "<ipython-input-4-248bf55a84de>:2: ParserWarning: Falling back to the 'python' engine because the 'c' engine does not support regex separators (separators > 1 char and different from '\\s+' are interpreted as regex); you can avoid this warning by specifying engine='python'.\n",
            "  users = pd.read_csv('/content/drive/MyDrive/CP2/ml-100k/u.user',sep='\\|',names=u_cols,encoding='latin-1')\n"
          ]
        }
      ]
    },
    {
      "cell_type": "markdown",
      "source": [
        "# **MF 기본 알고리즘**"
      ],
      "metadata": {
        "id": "7tM-GXf87HfT"
      }
    },
    {
      "cell_type": "code",
      "source": [
        "class MF():\n",
        "  def __init__(self, ratings,K,alpha,beta,iterations,verbose=True):\n",
        "    self.R = np.array(ratings)\n",
        "    self.num_users, self.num_items = np.shape(self.R)\n",
        "    self.K = K\n",
        "    self.alpha = alpha\n",
        "    self.beta = beta\n",
        "    self.iterations = iterations\n",
        "    self.verbose = verbose\n",
        "\n",
        "  def rmse(self):\n",
        "    xs, ys = self.R.nonzero()\n",
        "    #평점이 있는(0이 아닌) 요소의 인덱스를 가져온다\n",
        "    self.predictions = []\n",
        "    self.errors = []\n",
        "    for x,y in zip(xs,ys):\n",
        "      prediction = self.get_prediction(x,y)\n",
        "      self.predictions.append(prediction)\n",
        "      self.errors.append(self.R[x,y]-prediction)\n",
        "    self.predictions = np.array(self.predictions)\n",
        "    self.errors = np.array(self.errors)\n",
        "    \n",
        "    return np.sqrt(np.mean(self.errors**2))\n",
        "\n",
        "  #정해진 반복 횟수만큼 \n",
        "  def train(self):\n",
        "    self.P = np.random.normal(scale=1./self.K, size=(self.num_users,self.K))\n",
        "    #p행렬을 임의의 값으로 채움. 여기서는 평균 0, 표준편차 1/\bK 인 정규분포를 갖는 난수로 초기화\n",
        "    self.Q = np.random.normal(scale=1./self.K, size=(self.num_items,self.K))\n",
        "\n",
        "    self.b_u = np.zeros(self.num_users)\n",
        "    self.b_d = np.zeros(self.num_items)\n",
        "    self.b = np.mean(self.R[self.R.nonzero()])\n",
        "\n",
        "    rows, columns = self.R.nonzero()\n",
        "    self.samples = [(i,j,self.R[i,j]) for i,j in zip(rows, columns)]\n",
        "\n",
        "    training_process=[]\n",
        "    for i in range(self.iterations):\n",
        "      np.random.shuffle(self.samples)\n",
        "      self.sgd()\n",
        "      rmse = self.rmse()\n",
        "      training_process.append((i+1, rmse))\n",
        "      if self.verbose:\n",
        "        if (i+1)%10 ==0:\n",
        "          print(\"Iteration: %d ; Train RMSE = %.4f\" % (i+1,rmse))\n",
        "    return training_process\n",
        "\n",
        "  #평점 예측값을 구하는 함수. b는 평균 bu는 사용자 bias bd는 아이템 bias\n",
        "  def get_prediction(self,i,j):\n",
        "    prediction = self.b + self.b_u[i] + self.b_d[j] + self.P[i,:].dot(self.Q[j,:].T)\n",
        "    return prediction\n",
        "\n",
        "  def sgd(self):\n",
        "    for i,j,r in self.samples:\n",
        "      prediction = self.get_prediction(i,j)\n",
        "      e = (r - prediction)\n",
        "\n",
        "      self.b_u[i] += self.alpha * (e - self.beta * self.b_u[i])\n",
        "      self.b_d[j] += self.alpha * (e - self.beta * self.b_d[j])\n",
        "\n",
        "      self.P[i,:] += self.alpha * (e*self.Q[j,:] - self.beta*self.P[i,:])\n",
        "      self.Q[j,:] += self.alpha * (e*self.P[i,:] - self.beta*self.Q[j,:])\n",
        "\n",
        "\n"
      ],
      "metadata": {
        "id": "aFgrm6ROKZTi"
      },
      "execution_count": 5,
      "outputs": []
    },
    {
      "cell_type": "code",
      "source": [
        "R_temp = ratings.pivot(index='user_id', columns='movie_id', values='rating').fillna(0)\n",
        "mf = MF(R_temp, K=30, alpha=0.001, beta=0.02, iterations=100, verbose=True)"
      ],
      "metadata": {
        "id": "JjJa5roxmAHJ"
      },
      "execution_count": 6,
      "outputs": []
    },
    {
      "cell_type": "code",
      "source": [
        "train_process=mf.train()"
      ],
      "metadata": {
        "colab": {
          "base_uri": "https://localhost:8080/"
        },
        "id": "wIpP0N5nn3fJ",
        "outputId": "5032de0b-f60d-4573-bb8b-9d36ac4a9c29"
      },
      "execution_count": 7,
      "outputs": [
        {
          "output_type": "stream",
          "name": "stdout",
          "text": [
            "Iteration: 10 ; Train RMSE = 0.9585\n",
            "Iteration: 20 ; Train RMSE = 0.9374\n",
            "Iteration: 30 ; Train RMSE = 0.9281\n",
            "Iteration: 40 ; Train RMSE = 0.9226\n",
            "Iteration: 50 ; Train RMSE = 0.9185\n",
            "Iteration: 60 ; Train RMSE = 0.9146\n",
            "Iteration: 70 ; Train RMSE = 0.9101\n",
            "Iteration: 80 ; Train RMSE = 0.9040\n",
            "Iteration: 90 ; Train RMSE = 0.8953\n",
            "Iteration: 100 ; Train RMSE = 0.8836\n"
          ]
        }
      ]
    },
    {
      "cell_type": "code",
      "source": [
        "# R = np.array(ratings)\n",
        "# rows, columns = R.nonzero()\n",
        "# samples = [(i,j,R[i,j]) for i,j in zip(rows, columns)]\n",
        "# R.nonzero()"
      ],
      "metadata": {
        "id": "BPrgk44ygDFA"
      },
      "execution_count": 8,
      "outputs": []
    },
    {
      "cell_type": "code",
      "source": [
        "# samples = [(i,j, R[i,j]) for i,j in zip(rows, columns)]"
      ],
      "metadata": {
        "id": "PxnI8v6JgLU2"
      },
      "execution_count": 9,
      "outputs": []
    },
    {
      "cell_type": "code",
      "source": [
        "# for i, j, r in samples:\n",
        "#   print(j)"
      ],
      "metadata": {
        "id": "zp6nuWCMgV0Z"
      },
      "execution_count": 10,
      "outputs": []
    },
    {
      "cell_type": "markdown",
      "source": [
        "# **Train/Test 분리**"
      ],
      "metadata": {
        "id": "AvFNXJnp-HKF"
      }
    },
    {
      "cell_type": "code",
      "source": [
        "from sklearn.utils import shuffle\n",
        "train_size = 0.75\n",
        "ratings = shuffle(ratings, random_state=1)\n",
        "cutoff = int(train_size*len(ratings))\n",
        "ratings_train = ratings.iloc[:cutoff]\n",
        "ratings_test = ratings.iloc[cutoff:]"
      ],
      "metadata": {
        "id": "b30Ws_BB-OMC"
      },
      "execution_count": 11,
      "outputs": []
    },
    {
      "cell_type": "code",
      "source": [
        "class MF2():\n",
        "  def __init__(self, ratings, K, alpha, beta, iterations, verbose=True):\n",
        "    self.R = np.array(ratings)\n",
        "    self.num_users, self.num_items = np.shape(self.R)\n",
        "    self.K = K\n",
        "    self.alpha = alpha\n",
        "    self.beta = beta\n",
        "    self.iterations = iterations\n",
        "    self.verbose = verbose\n",
        "    #사용자와 아이템의 인덱스를 매핑해줌. pivot으로 만든 데이터프레임을 변수로 넣어줄예정\n",
        "    item_id_index = []\n",
        "    index_item_id = []\n",
        "    for i, one_id in enumerate(ratings):\n",
        "      item_id_index.append([one_id, i])\n",
        "      index_item_id.append([i, one_id])\n",
        "    self.item_id_index = dict(item_id_index)\n",
        "    self.index_item_id = dict(index_item_id)\n",
        "    user_id_index = []\n",
        "    index_user_id = []\n",
        "    for i, one_id in enumerate(ratings.T):\n",
        "      user_id_index.append([one_id, i])\n",
        "      index_user_id.append([i, one_id])\n",
        "    self.user_id_index = dict(user_id_index)\n",
        "    self.index_user_id = dict(index_user_id)\n",
        "\n",
        "    self.test_matrix = np.zeros((self.num_users, self.num_items))\n",
        "    for row in ratings_test.itertuples():\n",
        "        self.test_matrix[row[1]-1, row[2]-1] = row[3]\n",
        "\n",
        "  def rmse(self):\n",
        "    xs, ys = self.R.nonzero()\n",
        "    #평점이 있는(0이 아닌) 요소의 인덱스를 가져온다\n",
        "    self.predictions = []\n",
        "    self.errors = []\n",
        "    for x,y in zip(xs,ys):\n",
        "      prediction = self.get_prediction(x,y)\n",
        "      self.predictions.append(prediction)\n",
        "      self.errors.append(self.R[x,y]-prediction)\n",
        "    self.predictions = np.array(self.predictions)\n",
        "    self.errors = np.array(self.errors)\n",
        "    \n",
        "    return np.sqrt(np.mean(self.errors**2))\n",
        "  \n",
        "  def set_test(self, ratings_test):\n",
        "    test_set = []\n",
        "    for i in range(len(ratings_test)):\n",
        "      x = self.user_id_index[ratings_test.iloc[i,0]]\n",
        "      y = self.item_id_index[ratings_test.iloc[i,1]]\n",
        "      z = ratings_test.iloc[i,2]\n",
        "      test_set.append([x,y,z])\n",
        "      self.R[x,y] = 0\n",
        "    self.test_set = test_set\n",
        "    return test_set\n",
        "\n",
        "  def test_rmse(self):\n",
        "    error = 0\n",
        "    for one_set in self.test_set:\n",
        "      predicted = self.get_prediction(one_set[0], one_set[1])\n",
        "      error += pow(one_set[2] - predicted, 2)\n",
        "    return np.sqrt(error/len(self.test_set))\n",
        "\n",
        "  def test(self):\n",
        "    self.P = np.random.normal(scale=1./self.K, size=(self.num_users,self.K))\n",
        "    self.Q = np.random.normal(scale=1./self.K, size=(self.num_items,self.K))\n",
        "\n",
        "    self.b_u = np.zeros(self.num_users)\n",
        "    self.b_d = np.zeros(self.num_items)\n",
        "    self.b = np.mean(self.R[self.R.nonzero()])\n",
        "\n",
        "    rows, columns = self.R.nonzero()\n",
        "    self.samples = [(i,j,self.R[i,j]) for i,j in zip(rows, columns)]\n",
        "\n",
        "    training_process=[]\n",
        "    for i in range(self.iterations):\n",
        "      np.random.shuffle(self.samples)\n",
        "      self.sgd()\n",
        "      rmse1 = self.rmse()\n",
        "      rmse2 = self.test_rmse()\n",
        "      training_process.append((i+1, rmse1, rmse2))\n",
        "      if self.verbose:\n",
        "        if (i+1)%10 ==0:\n",
        "          print(\"Iteration: %d ; Train RMSE = %.4f; Test RMSE = %.4f\" % (i+1,rmse1, rmse2))\n",
        "    return training_process\n",
        "\n",
        "\n",
        "  def get_one_prediction(self, user_id, item_id):\n",
        "    return self.get_prediction(self.user_id_index[user_id], self.item_id_index[item_id])\n",
        "\n",
        "  def full_prediction(self):\n",
        "    return self.b + self.b_u[:, np.newaxis] + self.b_d[np.newaxis, :] + self.P.dot(self.Q.T)\n",
        "\n",
        "  def sgd(self):\n",
        "    for i,j,r in self.samples:\n",
        "      prediction = self.get_prediction(i,j)\n",
        "      e = (r - prediction)\n",
        "\n",
        "      self.b_u[i] += self.alpha * (e - self.beta * self.b_u[i])\n",
        "      self.b_d[j] += self.alpha * (e - self.beta * self.b_d[j])\n",
        "\n",
        "      self.P[i,:] += self.alpha * (e*self.Q[j,:] - self.beta*self.P[i,:])\n",
        "      self.Q[j,:] += self.alpha * (e*self.P[i,:] - self.beta*self.Q[j,:])\n",
        "\n",
        "  def get_prediction(self,i,j):\n",
        "    prediction = self.b + self.b_u[i] + self.b_d[j] + self.P[i,:].dot(self.Q[j,:].T)\n",
        "    return prediction\n",
        "\n",
        "  def precision(self, k=5):\n",
        "    predict_matrix = self.full_prediction()\n",
        "    top_k_indices = np.argsort(-predict_matrix, axis=1)[:, :k]\n",
        "\n",
        "    precision_list = []\n",
        "    for i in range(self.num_users):\n",
        "        true_items = np.where(self.test_matrix[i, :] > 0)[0]\n",
        "        predicted_items = top_k_indices[i]\n",
        "        precision_k = precision_score(np.isin(predicted_items, true_items), np.ones(k))\n",
        "        precision_list.append(precision_k)\n",
        "\n",
        "    avg_precision_k = np.mean(precision_list)\n",
        "    print('Precision@{}: {:.4f}'.format(k, avg_precision_k))\n",
        "\n"
      ],
      "metadata": {
        "id": "TuMPOkLA-ng1"
      },
      "execution_count": 15,
      "outputs": []
    },
    {
      "cell_type": "code",
      "source": [
        "R_temp = ratings.pivot(index='user_id', columns='movie_id', values='rating').fillna(0)\n",
        "\n",
        "mf = MF2(R_temp, K=30, alpha=0.001, beta=0.02, iterations=100, verbose=True)\n",
        "test_set = mf.set_test(ratings_test)\n",
        "result = mf.test()"
      ],
      "metadata": {
        "colab": {
          "base_uri": "https://localhost:8080/"
        },
        "id": "1I7PzWqxl0RF",
        "outputId": "b6364db0-3604-4995-936f-db9cf8c10f40"
      },
      "execution_count": 16,
      "outputs": [
        {
          "output_type": "stream",
          "name": "stdout",
          "text": [
            "Iteration: 10 ; Train RMSE = 0.9659; Test RMSE = 0.9834\n",
            "Iteration: 20 ; Train RMSE = 0.9410; Test RMSE = 0.9644\n",
            "Iteration: 30 ; Train RMSE = 0.9298; Test RMSE = 0.9566\n",
            "Iteration: 40 ; Train RMSE = 0.9230; Test RMSE = 0.9523\n",
            "Iteration: 50 ; Train RMSE = 0.9183; Test RMSE = 0.9496\n",
            "Iteration: 60 ; Train RMSE = 0.9143; Test RMSE = 0.9477\n",
            "Iteration: 70 ; Train RMSE = 0.9105; Test RMSE = 0.9463\n",
            "Iteration: 80 ; Train RMSE = 0.9063; Test RMSE = 0.9449\n",
            "Iteration: 90 ; Train RMSE = 0.9011; Test RMSE = 0.9434\n",
            "Iteration: 100 ; Train RMSE = 0.8944; Test RMSE = 0.9415\n"
          ]
        }
      ]
    },
    {
      "cell_type": "code",
      "source": [
        "mf.precision(k=5)"
      ],
      "metadata": {
        "colab": {
          "base_uri": "https://localhost:8080/"
        },
        "id": "P1vAlH0fSC6A",
        "outputId": "99c7f0a7-ac1f-40d4-f8ef-cd38c723514e"
      },
      "execution_count": 17,
      "outputs": [
        {
          "output_type": "stream",
          "name": "stdout",
          "text": [
            "Precision@5: 0.0477\n"
          ]
        }
      ]
    },
    {
      "cell_type": "markdown",
      "source": [
        "\n",
        "\n",
        "---\n",
        "\n",
        "\n",
        "\n",
        "---\n",
        "\n",
        "\n",
        "\n",
        "---\n",
        "\n"
      ],
      "metadata": {
        "id": "CCM4UN4hdBg9"
      }
    },
    {
      "cell_type": "code",
      "source": [
        "# num_users = ratings_train['user_id'].nunique()\n",
        "# num_items = ratings_train['movie_id'].nunique()\n",
        "# train_matrix = np.zeros((num_users, num_items))\n",
        "# for row in ratings_train.itertuples():\n",
        "#     train_matrix[row[1]-1, row[2]-1] = row[3]"
      ],
      "metadata": {
        "id": "F8LqFBjC9yuk"
      },
      "execution_count": null,
      "outputs": []
    },
    {
      "cell_type": "code",
      "source": [
        "# train_matrix = np.zeros((943,1641))"
      ],
      "metadata": {
        "id": "azb3xWalZVGW"
      },
      "execution_count": null,
      "outputs": []
    },
    {
      "cell_type": "code",
      "source": [
        "# R2 = ratings_train.pivot(index='user_id', columns='movie_id', values='rating').fillna(0)\n",
        "# R2"
      ],
      "metadata": {
        "id": "lKHG4E7KZmwF"
      },
      "execution_count": null,
      "outputs": []
    },
    {
      "cell_type": "code",
      "source": [
        "# predicted_matrix"
      ],
      "metadata": {
        "id": "iFuudmoSjIY7"
      },
      "execution_count": null,
      "outputs": []
    },
    {
      "cell_type": "code",
      "source": [
        "# ratings.user_id.nunique()"
      ],
      "metadata": {
        "id": "LHVMFpJnp0SG"
      },
      "execution_count": null,
      "outputs": []
    },
    {
      "cell_type": "code",
      "source": [
        "# test_matrix = np.zeros((943, 1682))\n",
        "# for row in ratings_test.itertuples():\n",
        "#     test_matrix[row[1]-1, row[2]-1] = row[3]\n",
        "\n",
        "# test_matrix"
      ],
      "metadata": {
        "id": "59H3oFwArFDg"
      },
      "execution_count": null,
      "outputs": []
    },
    {
      "cell_type": "code",
      "source": [
        "# np.argsort(predicted_matrix, axis=1)"
      ],
      "metadata": {
        "id": "6ewlvMPwXiEn"
      },
      "execution_count": null,
      "outputs": []
    },
    {
      "cell_type": "code",
      "source": [
        "# ratings_test[(ratings_test.user_id == 91)]"
      ],
      "metadata": {
        "id": "HIbPXh5cwyRO"
      },
      "execution_count": null,
      "outputs": []
    },
    {
      "cell_type": "code",
      "source": [
        "# test_set[0:5]"
      ],
      "metadata": {
        "id": "q3vj7-Cz9fD-"
      },
      "execution_count": null,
      "outputs": []
    },
    {
      "cell_type": "code",
      "source": [
        "# ratings_test"
      ],
      "metadata": {
        "id": "l_V6qb-8XpyG"
      },
      "execution_count": null,
      "outputs": []
    },
    {
      "cell_type": "code",
      "source": [
        "# len(item_id_index)"
      ],
      "metadata": {
        "id": "XDQS74HeXDWv"
      },
      "execution_count": null,
      "outputs": []
    },
    {
      "cell_type": "code",
      "source": [
        "# R = np.array(ratings)"
      ],
      "metadata": {
        "id": "pPXVlOXfCPgS"
      },
      "execution_count": null,
      "outputs": []
    },
    {
      "cell_type": "code",
      "source": [
        "# item_id_index = []\n",
        "# index_item_id = []\n",
        "# for i, one_id in enumerate(ratings):\n",
        "#       item_id_index.append([one_id, i])\n",
        "#       index_item_id.append([i, one_id])\n",
        "# item_id_index = dict(item_id_index)\n",
        "# index_item_id = dict(index_item_id)  "
      ],
      "metadata": {
        "id": "2axlVBj2_6uO"
      },
      "execution_count": null,
      "outputs": []
    },
    {
      "cell_type": "code",
      "source": [
        "# index_item_id"
      ],
      "metadata": {
        "id": "qvF8isaVBnkY"
      },
      "execution_count": null,
      "outputs": []
    },
    {
      "cell_type": "code",
      "source": [
        "# user_id_index = []\n",
        "# index_user_id = []\n",
        "# for i, one_id in enumerate(ratings.T):\n",
        "#   user_id_index.append([one_id, i])\n",
        "#   index_user_id.append([i, one_id])\n",
        "# user_id_index = dict(user_id_index)\n",
        "# index_user_id = dict(index_user_id)"
      ],
      "metadata": {
        "id": "nq-Nz2r7CCRg"
      },
      "execution_count": null,
      "outputs": []
    },
    {
      "cell_type": "markdown",
      "source": [
        "# **MF 기본 신경망**"
      ],
      "metadata": {
        "id": "aPJbMDyH7ihG"
      }
    },
    {
      "cell_type": "code",
      "source": [
        "from sklearn.utils import shuffle\n",
        "\n",
        "train_size = 0.8\n",
        "\n",
        "ratings = shuffle(ratings,random_state=2)\n",
        "cutoff = int(train_size*len(ratings))\n",
        "ratings_train = ratings.iloc[:cutoff]\n",
        "ratings_test = ratings.iloc[cutoff:]"
      ],
      "metadata": {
        "id": "uWtS8HPmS0LN"
      },
      "execution_count": 18,
      "outputs": []
    },
    {
      "cell_type": "code",
      "source": [
        "import tensorflow as tf\n",
        "from tensorflow.keras import layers\n",
        "from tensorflow.keras.models import Model\n",
        "from tensorflow.keras.layers import Input, Embedding, Dot, Add, Flatten\n",
        "from tensorflow.keras.regularizers import l2\n",
        "from tensorflow.keras.optimizers import SGD, Adamax\n",
        "\n",
        "K = 200\n",
        "mu = ratings_train.rating.mean()\n",
        "M = ratings.user_id.max() +1\n",
        "N = ratings.movie_id.max() +1\n",
        "\n",
        "def RMSE(y_true, y_pred):\n",
        "  return tf.sqrt(tf.reduce_mean(tf.square(y_true - y_pred)))\n",
        "\n",
        "user = Input(shape=(1,))\n",
        "item = Input(shape=(1,))\n",
        "P_embedding = Embedding(M,K,embeddings_regularizer=l2())(user)\n",
        "Q_embedding = Embedding(N,K,embeddings_regularizer=l2())(item)\n",
        "user_bias = Embedding(M,1,embeddings_regularizer=l2())(user)\n",
        "item_bias =  Embedding(N,1,embeddings_regularizer=l2())(item)\n",
        "\n",
        "R = layers.dot([P_embedding, Q_embedding], axes=2)\n",
        "R = layers.add([R, user_bias, item_bias])\n",
        "R = Flatten()(R)\n",
        "\n",
        "model = Model(inputs=[user,item], outputs=R)\n",
        "model.compile(\n",
        "    loss=RMSE,\n",
        "    optimizer=SGD(),\n",
        "    metrics=[RMSE]\n",
        ")\n",
        "\n",
        "model.summary()"
      ],
      "metadata": {
        "colab": {
          "base_uri": "https://localhost:8080/"
        },
        "id": "JuMlJ5USUOVK",
        "outputId": "8960e510-fdb2-4e22-fff7-8a7ef7c707b5"
      },
      "execution_count": 19,
      "outputs": [
        {
          "output_type": "stream",
          "name": "stdout",
          "text": [
            "Model: \"model\"\n",
            "__________________________________________________________________________________________________\n",
            " Layer (type)                   Output Shape         Param #     Connected to                     \n",
            "==================================================================================================\n",
            " input_1 (InputLayer)           [(None, 1)]          0           []                               \n",
            "                                                                                                  \n",
            " input_2 (InputLayer)           [(None, 1)]          0           []                               \n",
            "                                                                                                  \n",
            " embedding (Embedding)          (None, 1, 200)       188800      ['input_1[0][0]']                \n",
            "                                                                                                  \n",
            " embedding_1 (Embedding)        (None, 1, 200)       336600      ['input_2[0][0]']                \n",
            "                                                                                                  \n",
            " dot (Dot)                      (None, 1, 1)         0           ['embedding[0][0]',              \n",
            "                                                                  'embedding_1[0][0]']            \n",
            "                                                                                                  \n",
            " embedding_2 (Embedding)        (None, 1, 1)         944         ['input_1[0][0]']                \n",
            "                                                                                                  \n",
            " embedding_3 (Embedding)        (None, 1, 1)         1683        ['input_2[0][0]']                \n",
            "                                                                                                  \n",
            " add (Add)                      (None, 1, 1)         0           ['dot[0][0]',                    \n",
            "                                                                  'embedding_2[0][0]',            \n",
            "                                                                  'embedding_3[0][0]']            \n",
            "                                                                                                  \n",
            " flatten (Flatten)              (None, 1)            0           ['add[0][0]']                    \n",
            "                                                                                                  \n",
            "==================================================================================================\n",
            "Total params: 528,027\n",
            "Trainable params: 528,027\n",
            "Non-trainable params: 0\n",
            "__________________________________________________________________________________________________\n"
          ]
        }
      ]
    },
    {
      "cell_type": "code",
      "source": [
        "result = model.fit(\n",
        "    x=[ratings_train.user_id.values, ratings_train.movie_id.values],\n",
        "    y=ratings_train.rating.values -mu,\n",
        "    epochs=50,\n",
        "    batch_size=256,\n",
        "    validation_data=(\n",
        "        [ratings_test.user_id.values, ratings_test.movie_id.values],\n",
        "        ratings_test.rating.values -mu\n",
        "    )\n",
        ")\n"
      ],
      "metadata": {
        "id": "YSu-wMmb3SmI",
        "colab": {
          "base_uri": "https://localhost:8080/"
        },
        "outputId": "bddc5cab-0971-4643-8d8c-4523777fe93e"
      },
      "execution_count": 20,
      "outputs": [
        {
          "output_type": "stream",
          "name": "stdout",
          "text": [
            "Epoch 1/50\n",
            "313/313 [==============================] - 4s 9ms/step - loss: 5.2638 - RMSE: 1.1228 - val_loss: 5.0127 - val_RMSE: 1.1298\n",
            "Epoch 2/50\n",
            "313/313 [==============================] - 2s 6ms/step - loss: 4.7744 - RMSE: 1.1207 - val_loss: 4.5536 - val_RMSE: 1.1279\n",
            "Epoch 3/50\n",
            "313/313 [==============================] - 2s 7ms/step - loss: 4.3426 - RMSE: 1.1185 - val_loss: 4.1485 - val_RMSE: 1.1260\n",
            "Epoch 4/50\n",
            "313/313 [==============================] - 3s 10ms/step - loss: 3.9619 - RMSE: 1.1172 - val_loss: 3.7911 - val_RMSE: 1.1243\n",
            "Epoch 5/50\n",
            "313/313 [==============================] - 4s 12ms/step - loss: 3.6260 - RMSE: 1.1155 - val_loss: 3.4758 - val_RMSE: 1.1228\n",
            "Epoch 6/50\n",
            "313/313 [==============================] - 3s 9ms/step - loss: 3.3295 - RMSE: 1.1141 - val_loss: 3.1976 - val_RMSE: 1.1213\n",
            "Epoch 7/50\n",
            "313/313 [==============================] - 2s 8ms/step - loss: 3.0680 - RMSE: 1.1126 - val_loss: 2.9522 - val_RMSE: 1.1200\n",
            "Epoch 8/50\n",
            "313/313 [==============================] - 3s 8ms/step - loss: 2.8372 - RMSE: 1.1115 - val_loss: 2.7357 - val_RMSE: 1.1188\n",
            "Epoch 9/50\n",
            "313/313 [==============================] - 3s 10ms/step - loss: 2.6336 - RMSE: 1.1103 - val_loss: 2.5446 - val_RMSE: 1.1176\n",
            "Epoch 10/50\n",
            "313/313 [==============================] - 2s 6ms/step - loss: 2.4541 - RMSE: 1.1091 - val_loss: 2.3761 - val_RMSE: 1.1166\n",
            "Epoch 11/50\n",
            "313/313 [==============================] - 2s 6ms/step - loss: 2.2956 - RMSE: 1.1082 - val_loss: 2.2274 - val_RMSE: 1.1156\n",
            "Epoch 12/50\n",
            "313/313 [==============================] - 2s 6ms/step - loss: 2.1558 - RMSE: 1.1072 - val_loss: 2.0963 - val_RMSE: 1.1147\n",
            "Epoch 13/50\n",
            "313/313 [==============================] - 2s 6ms/step - loss: 2.0327 - RMSE: 1.1065 - val_loss: 1.9805 - val_RMSE: 1.1138\n",
            "Epoch 14/50\n",
            "313/313 [==============================] - 2s 6ms/step - loss: 1.9238 - RMSE: 1.1056 - val_loss: 1.8784 - val_RMSE: 1.1131\n",
            "Epoch 15/50\n",
            "313/313 [==============================] - 3s 9ms/step - loss: 1.8277 - RMSE: 1.1048 - val_loss: 1.7883 - val_RMSE: 1.1123\n",
            "Epoch 16/50\n",
            "313/313 [==============================] - 3s 9ms/step - loss: 1.7431 - RMSE: 1.1041 - val_loss: 1.7089 - val_RMSE: 1.1117\n",
            "Epoch 17/50\n",
            "313/313 [==============================] - 2s 6ms/step - loss: 1.6686 - RMSE: 1.1036 - val_loss: 1.6388 - val_RMSE: 1.1111\n",
            "Epoch 18/50\n",
            "313/313 [==============================] - 2s 6ms/step - loss: 1.6026 - RMSE: 1.1030 - val_loss: 1.5769 - val_RMSE: 1.1105\n",
            "Epoch 19/50\n",
            "313/313 [==============================] - 2s 6ms/step - loss: 1.5443 - RMSE: 1.1022 - val_loss: 1.5223 - val_RMSE: 1.1099\n",
            "Epoch 20/50\n",
            "313/313 [==============================] - 2s 6ms/step - loss: 1.4930 - RMSE: 1.1018 - val_loss: 1.4742 - val_RMSE: 1.1094\n",
            "Epoch 21/50\n",
            "313/313 [==============================] - 2s 6ms/step - loss: 1.4479 - RMSE: 1.1016 - val_loss: 1.4317 - val_RMSE: 1.1090\n",
            "Epoch 22/50\n",
            "313/313 [==============================] - 3s 9ms/step - loss: 1.4078 - RMSE: 1.1009 - val_loss: 1.3942 - val_RMSE: 1.1085\n",
            "Epoch 23/50\n",
            "313/313 [==============================] - 2s 8ms/step - loss: 1.3726 - RMSE: 1.1006 - val_loss: 1.3612 - val_RMSE: 1.1081\n",
            "Epoch 24/50\n",
            "313/313 [==============================] - 2s 6ms/step - loss: 1.3415 - RMSE: 1.1002 - val_loss: 1.3320 - val_RMSE: 1.1078\n",
            "Epoch 25/50\n",
            "313/313 [==============================] - 2s 6ms/step - loss: 1.3142 - RMSE: 1.1000 - val_loss: 1.3062 - val_RMSE: 1.1074\n",
            "Epoch 26/50\n",
            "313/313 [==============================] - 2s 6ms/step - loss: 1.2899 - RMSE: 1.0992 - val_loss: 1.2835 - val_RMSE: 1.1071\n",
            "Epoch 27/50\n",
            "313/313 [==============================] - 2s 6ms/step - loss: 1.2686 - RMSE: 1.0990 - val_loss: 1.2635 - val_RMSE: 1.1068\n",
            "Epoch 28/50\n",
            "313/313 [==============================] - 2s 6ms/step - loss: 1.2498 - RMSE: 1.0989 - val_loss: 1.2458 - val_RMSE: 1.1065\n",
            "Epoch 29/50\n",
            "313/313 [==============================] - 3s 9ms/step - loss: 1.2331 - RMSE: 1.0985 - val_loss: 1.2302 - val_RMSE: 1.1063\n",
            "Epoch 30/50\n",
            "313/313 [==============================] - 2s 7ms/step - loss: 1.2185 - RMSE: 1.0985 - val_loss: 1.2165 - val_RMSE: 1.1060\n",
            "Epoch 31/50\n",
            "313/313 [==============================] - 2s 6ms/step - loss: 1.2055 - RMSE: 1.0982 - val_loss: 1.2043 - val_RMSE: 1.1058\n",
            "Epoch 32/50\n",
            "313/313 [==============================] - 2s 6ms/step - loss: 1.1941 - RMSE: 1.0980 - val_loss: 1.1936 - val_RMSE: 1.1056\n",
            "Epoch 33/50\n",
            "313/313 [==============================] - 2s 6ms/step - loss: 1.1842 - RMSE: 1.0980 - val_loss: 1.1842 - val_RMSE: 1.1054\n",
            "Epoch 34/50\n",
            "313/313 [==============================] - 2s 6ms/step - loss: 1.1752 - RMSE: 1.0976 - val_loss: 1.1758 - val_RMSE: 1.1052\n",
            "Epoch 35/50\n",
            "313/313 [==============================] - 2s 7ms/step - loss: 1.1674 - RMSE: 1.0974 - val_loss: 1.1685 - val_RMSE: 1.1051\n",
            "Epoch 36/50\n",
            "313/313 [==============================] - 3s 9ms/step - loss: 1.1604 - RMSE: 1.0972 - val_loss: 1.1620 - val_RMSE: 1.1049\n",
            "Epoch 37/50\n",
            "313/313 [==============================] - 2s 7ms/step - loss: 1.1543 - RMSE: 1.0969 - val_loss: 1.1563 - val_RMSE: 1.1048\n",
            "Epoch 38/50\n",
            "313/313 [==============================] - 2s 6ms/step - loss: 1.1489 - RMSE: 1.0970 - val_loss: 1.1512 - val_RMSE: 1.1046\n",
            "Epoch 39/50\n",
            "313/313 [==============================] - 2s 6ms/step - loss: 1.1442 - RMSE: 1.0968 - val_loss: 1.1468 - val_RMSE: 1.1045\n",
            "Epoch 40/50\n",
            "313/313 [==============================] - 2s 6ms/step - loss: 1.1401 - RMSE: 1.0968 - val_loss: 1.1428 - val_RMSE: 1.1044\n",
            "Epoch 41/50\n",
            "313/313 [==============================] - 2s 6ms/step - loss: 1.1364 - RMSE: 1.0966 - val_loss: 1.1394 - val_RMSE: 1.1043\n",
            "Epoch 42/50\n",
            "313/313 [==============================] - 3s 9ms/step - loss: 1.1330 - RMSE: 1.0966 - val_loss: 1.1363 - val_RMSE: 1.1042\n",
            "Epoch 43/50\n",
            "313/313 [==============================] - 2s 8ms/step - loss: 1.1302 - RMSE: 1.0962 - val_loss: 1.1336 - val_RMSE: 1.1041\n",
            "Epoch 44/50\n",
            "313/313 [==============================] - 2s 6ms/step - loss: 1.1276 - RMSE: 1.0962 - val_loss: 1.1312 - val_RMSE: 1.1040\n",
            "Epoch 45/50\n",
            "313/313 [==============================] - 2s 6ms/step - loss: 1.1255 - RMSE: 1.0962 - val_loss: 1.1291 - val_RMSE: 1.1039\n",
            "Epoch 46/50\n",
            "313/313 [==============================] - 2s 7ms/step - loss: 1.1234 - RMSE: 1.0961 - val_loss: 1.1273 - val_RMSE: 1.1038\n",
            "Epoch 47/50\n",
            "313/313 [==============================] - 2s 6ms/step - loss: 1.1217 - RMSE: 1.0960 - val_loss: 1.1256 - val_RMSE: 1.1037\n",
            "Epoch 48/50\n",
            "313/313 [==============================] - 2s 7ms/step - loss: 1.1202 - RMSE: 1.0961 - val_loss: 1.1242 - val_RMSE: 1.1037\n",
            "Epoch 49/50\n",
            "313/313 [==============================] - 3s 10ms/step - loss: 1.1188 - RMSE: 1.0960 - val_loss: 1.1229 - val_RMSE: 1.1036\n",
            "Epoch 50/50\n",
            "313/313 [==============================] - 2s 8ms/step - loss: 1.1176 - RMSE: 1.0959 - val_loss: 1.1218 - val_RMSE: 1.1036\n"
          ]
        }
      ]
    },
    {
      "cell_type": "code",
      "source": [
        "import matplotlib.pyplot as plt\n",
        "\n",
        "plt.plot(result.history['RMSE'], label='Train RMSE')\n",
        "plt.plot(result.history['val_RMSE'], label='Test RMSE')\n",
        "plt.legend()\n",
        "plt.show()"
      ],
      "metadata": {
        "colab": {
          "base_uri": "https://localhost:8080/",
          "height": 430
        },
        "id": "V21Kp0RdQYDY",
        "outputId": "0e7884db-10e0-4af4-a1f2-5e54131408ba"
      },
      "execution_count": 21,
      "outputs": [
        {
          "output_type": "display_data",
          "data": {
            "text/plain": [
              "<Figure size 640x480 with 1 Axes>"
            ],
            "image/png": "[encoded data removed]"
          },
          "metadata": {}
        }
      ]
    },
    {
      "cell_type": "code",
      "source": [
        "user_ids = ratings_test.user_id.values[0:6]\n",
        "movie_ids = ratings_test.movie_id.values[0:6]\n",
        "predictions = model.predict([user_ids,movie_ids]) + mu\n",
        "\n",
        "ratings_test[0:6]\n",
        "predictions"
      ],
      "metadata": {
        "colab": {
          "base_uri": "https://localhost:8080/"
        },
        "id": "okTlieu1vuY-",
        "outputId": "1d09a8df-5b4b-45f7-ba97-e8cb7e5d2a8d"
      },
      "execution_count": 22,
      "outputs": [
        {
          "output_type": "stream",
          "name": "stdout",
          "text": [
            "1/1 [==============================] - 0s 181ms/step\n"
          ]
        },
        {
          "output_type": "execute_result",
          "data": {
            "text/plain": [
              "array([[3.7447832],\n",
              "       [3.51559  ],\n",
              "       [3.503773 ],\n",
              "       [3.580076 ],\n",
              "       [3.5009828],\n",
              "       [3.4599352]], dtype=float32)"
            ]
          },
          "metadata": {},
          "execution_count": 22
        }
      ]
    },
    {
      "cell_type": "markdown",
      "source": [
        "# **MF 신경망 은닉층 추가, occupation 변수 추가**"
      ],
      "metadata": {
        "id": "azk2BlZZ8kQH"
      }
    },
    {
      "cell_type": "code",
      "source": [
        "def RMSE2(y_true,y_pred):\n",
        "  return np.sqrt(np.mean((np.array(y_true) - np.array(y_pred))**2))\n",
        "\n",
        "user_ids = ratings_test.user_id.values\n",
        "movie_ids = ratings_test.movie_id.values\n",
        "y_pred = model.predict([user_ids, movie_ids]) + mu\n",
        "y_pred = np.ravel(y_pred, order='C')\n",
        "y_true = np.array(ratings_test.rating)\n",
        "\n",
        "RMSE2(y_true, y_pred)\n"
      ],
      "metadata": {
        "colab": {
          "base_uri": "https://localhost:8080/"
        },
        "id": "JtMm3u0Pp9Fl",
        "outputId": "c3329617-dc27-4654-9a46-0e1e638c6372"
      },
      "execution_count": 23,
      "outputs": [
        {
          "output_type": "stream",
          "name": "stdout",
          "text": [
            "625/625 [==============================] - 1s 2ms/step\n"
          ]
        },
        {
          "output_type": "execute_result",
          "data": {
            "text/plain": [
              "1.1013691285349083"
            ]
          },
          "metadata": {},
          "execution_count": 23
        }
      ]
    },
    {
      "cell_type": "code",
      "source": [
        "occupation={}\n",
        "def convert_occ(x):\n",
        "  if x in occupation:\n",
        "    return occupation[x]\n",
        "  else:\n",
        "    occupation[x] = len(occupation)\n",
        "    return occupation[x]\n",
        "\n",
        "users['occupation'] = users['occupation'].apply(convert_occ)\n",
        "users"
      ],
      "metadata": {
        "colab": {
          "base_uri": "https://localhost:8080/",
          "height": 424
        },
        "id": "AXohGYJUyMCk",
        "outputId": "6a0f9c9f-c70a-4856-8721-995121a4a246"
      },
      "execution_count": 24,
      "outputs": [
        {
          "output_type": "execute_result",
          "data": {
            "text/plain": [
              "     user_id  occupation\n",
              "0          1           0\n",
              "1          2           1\n",
              "2          3           2\n",
              "3          4           0\n",
              "4          5           1\n",
              "..       ...         ...\n",
              "938      939           5\n",
              "939      940           4\n",
              "940      941           5\n",
              "941      942          11\n",
              "942      943           5\n",
              "\n",
              "[943 rows x 2 columns]"
            ],
            "text/html": [
              "\n",
              "  <div id=\"df-b3d9f880-3682-4200-817d-627c02b113e6\">\n",
              "    <div class=\"colab-df-container\">\n",
              "      <div>\n",
              "<style scoped>\n",
              "    .dataframe tbody tr th:only-of-type {\n",
              "        vertical-align: middle;\n",
              "    }\n",
              "\n",
              "    .dataframe tbody tr th {\n",
              "        vertical-align: top;\n",
              "    }\n",
              "\n",
              "    .dataframe thead th {\n",
              "        text-align: right;\n",
              "    }\n",
              "</style>\n",
              "<table border=\"1\" class=\"dataframe\">\n",
              "  <thead>\n",
              "    <tr style=\"text-align: right;\">\n",
              "      <th></th>\n",
              "      <th>user_id</th>\n",
              "      <th>occupation</th>\n",
              "    </tr>\n",
              "  </thead>\n",
              "  <tbody>\n",
              "    <tr>\n",
              "      <th>0</th>\n",
              "      <td>1</td>\n",
              "      <td>0</td>\n",
              "    </tr>\n",
              "    <tr>\n",
              "      <th>1</th>\n",
              "      <td>2</td>\n",
              "      <td>1</td>\n",
              "    </tr>\n",
              "    <tr>\n",
              "      <th>2</th>\n",
              "      <td>3</td>\n",
              "      <td>2</td>\n",
              "    </tr>\n",
              "    <tr>\n",
              "      <th>3</th>\n",
              "      <td>4</td>\n",
              "      <td>0</td>\n",
              "    </tr>\n",
              "    <tr>\n",
              "      <th>4</th>\n",
              "      <td>5</td>\n",
              "      <td>1</td>\n",
              "    </tr>\n",
              "    <tr>\n",
              "      <th>...</th>\n",
              "      <td>...</td>\n",
              "      <td>...</td>\n",
              "    </tr>\n",
              "    <tr>\n",
              "      <th>938</th>\n",
              "      <td>939</td>\n",
              "      <td>5</td>\n",
              "    </tr>\n",
              "    <tr>\n",
              "      <th>939</th>\n",
              "      <td>940</td>\n",
              "      <td>4</td>\n",
              "    </tr>\n",
              "    <tr>\n",
              "      <th>940</th>\n",
              "      <td>941</td>\n",
              "      <td>5</td>\n",
              "    </tr>\n",
              "    <tr>\n",
              "      <th>941</th>\n",
              "      <td>942</td>\n",
              "      <td>11</td>\n",
              "    </tr>\n",
              "    <tr>\n",
              "      <th>942</th>\n",
              "      <td>943</td>\n",
              "      <td>5</td>\n",
              "    </tr>\n",
              "  </tbody>\n",
              "</table>\n",
              "<p>943 rows × 2 columns</p>\n",
              "</div>\n",
              "      <button class=\"colab-df-convert\" onclick=\"convertToInteractive('df-b3d9f880-3682-4200-817d-627c02b113e6')\"\n",
              "              title=\"Convert this dataframe to an interactive table.\"\n",
              "              style=\"display:none;\">\n",
              "        \n",
              "  <svg xmlns=\"http://www.w3.org/2000/svg\" height=\"24px\"viewBox=\"0 0 24 24\"\n",
              "       width=\"24px\">\n",
              "    <path d=\"M0 0h24v24H0V0z\" fill=\"none\"/>\n",
              "    <path d=\"M18.56 5.44l.94 2.06.94-2.06 2.06-.94-2.06-.94-.94-2.06-.94 2.06-2.06.94zm-11 1L8.5 8.5l.94-2.06 2.06-.94-2.06-.94L8.5 2.5l-.94 2.06-2.06.94zm10 10l.94 2.06.94-2.06 2.06-.94-2.06-.94-.94-2.06-.94 2.06-2.06.94z\"/><path d=\"M17.41 7.96l-1.37-1.37c-.4-.4-.92-.59-1.43-.59-.52 0-1.04.2-1.43.59L10.3 9.45l-7.72 7.72c-.78.78-.78 2.05 0 2.83L4 21.41c.39.39.9.59 1.41.59.51 0 1.02-.2 1.41-.59l7.78-7.78 2.81-2.81c.8-.78.8-2.07 0-2.86zM5.41 20L4 18.59l7.72-7.72 1.47 1.35L5.41 20z\"/>\n",
              "  </svg>\n",
              "      </button>\n",
              "      \n",
              "  <style>\n",
              "    .colab-df-container {\n",
              "      display:flex;\n",
              "      flex-wrap:wrap;\n",
              "      gap: 12px;\n",
              "    }\n",
              "\n",
              "    .colab-df-convert {\n",
              "      background-color: #E8F0FE;\n",
              "      border: none;\n",
              "      border-radius: 50%;\n",
              "      cursor: pointer;\n",
              "      display: none;\n",
              "      fill: #1967D2;\n",
              "      height: 32px;\n",
              "      padding: 0 0 0 0;\n",
              "      width: 32px;\n",
              "    }\n",
              "\n",
              "    .colab-df-convert:hover {\n",
              "      background-color: #E2EBFA;\n",
              "      box-shadow: 0px 1px 2px rgba(60, 64, 67, 0.3), 0px 1px 3px 1px rgba(60, 64, 67, 0.15);\n",
              "      fill: #174EA6;\n",
              "    }\n",
              "\n",
              "    [theme=dark] .colab-df-convert {\n",
              "      background-color: #3B4455;\n",
              "      fill: #D2E3FC;\n",
              "    }\n",
              "\n",
              "    [theme=dark] .colab-df-convert:hover {\n",
              "      background-color: #434B5C;\n",
              "      box-shadow: 0px 1px 3px 1px rgba(0, 0, 0, 0.15);\n",
              "      filter: drop-shadow(0px 1px 2px rgba(0, 0, 0, 0.3));\n",
              "      fill: #FFFFFF;\n",
              "    }\n",
              "  </style>\n",
              "\n",
              "      <script>\n",
              "        const buttonEl =\n",
              "          document.querySelector('#df-b3d9f880-3682-4200-817d-627c02b113e6 button.colab-df-convert');\n",
              "        buttonEl.style.display =\n",
              "          google.colab.kernel.accessAllowed ? 'block' : 'none';\n",
              "\n",
              "        async function convertToInteractive(key) {\n",
              "          const element = document.querySelector('#df-b3d9f880-3682-4200-817d-627c02b113e6');\n",
              "          const dataTable =\n",
              "            await google.colab.kernel.invokeFunction('convertToInteractive',\n",
              "                                                     [key], {});\n",
              "          if (!dataTable) return;\n",
              "\n",
              "          const docLinkHtml = 'Like what you see? Visit the ' +\n",
              "            '<a target=\"_blank\" href=https://colab.research.google.com/notebooks/data_table.ipynb>data table notebook</a>'\n",
              "            + ' to learn more about interactive tables.';\n",
              "          element.innerHTML = '';\n",
              "          dataTable['output_type'] = 'display_data';\n",
              "          await google.colab.output.renderOutput(dataTable, element);\n",
              "          const docLink = document.createElement('div');\n",
              "          docLink.innerHTML = docLinkHtml;\n",
              "          element.appendChild(docLink);\n",
              "        }\n",
              "      </script>\n",
              "    </div>\n",
              "  </div>\n",
              "  "
            ]
          },
          "metadata": {},
          "execution_count": 24
        }
      ]
    },
    {
      "cell_type": "code",
      "source": [
        "L = len(occupation)"
      ],
      "metadata": {
        "id": "kjkpaB3x0T-S"
      },
      "execution_count": 25,
      "outputs": []
    },
    {
      "cell_type": "code",
      "source": [
        "user = Input(shape=(1,))\n",
        "item = Input(shape=(1,))\n",
        "occ = Input(shape=(1,))\n",
        "P_embedding = Embedding(M,K,embeddings_regularizer=l2())(user)\n",
        "Q_embedding = Embedding(N,K,embeddings_regularizer=l2())(item)\n",
        "occ_embedding = Embedding(L,3, embeddings_regularizer=l2())(occ)\n",
        "user_bias = Embedding(M,1,embeddings_regularizer=l2())(user)\n",
        "item_bias =  Embedding(N,1,embeddings_regularizer=l2())(item)\n",
        "\n",
        "#Concatenate layers\n",
        "from tensorflow.keras.layers import Dense, Concatenate, Activation\n",
        "#concatenate를 위해서 1차원으로 줄임\n",
        "P_embedding = Flatten()(P_embedding)\n",
        "Q_embedding = Flatten()(Q_embedding)\n",
        "occ_layer = Flatten()(occ_embedding)\n",
        "user_bias = Flatten()(user_bias)\n",
        "item_bias = Flatten()(item_bias)\n",
        "R = Concatenate()([P_embedding, Q_embedding,user_bias, item_bias,occ_layer])\n",
        "\n",
        "R = Dense(2048)(R)\n",
        "R = Activation('relu')(R)\n",
        "R = Dense(256)(R)\n",
        "R = Activation('linear')(R)\n",
        "R = Dense(1)(R)\n",
        "\n",
        "model = Model(inputs=[user, item, occ], outputs=R)\n",
        "model.compile(\n",
        "    loss=RMSE,\n",
        "    optimizer=SGD(),\n",
        "    metrics=[RMSE]\n",
        ")\n",
        "\n",
        "model.summary()"
      ],
      "metadata": {
        "colab": {
          "base_uri": "https://localhost:8080/"
        },
        "id": "b6LFb51Jp-bO",
        "outputId": "6a5dc471-e211-49b7-8d81-d3e4296005d3"
      },
      "execution_count": 26,
      "outputs": [
        {
          "output_type": "stream",
          "name": "stdout",
          "text": [
            "Model: \"model_1\"\n",
            "__________________________________________________________________________________________________\n",
            " Layer (type)                   Output Shape         Param #     Connected to                     \n",
            "==================================================================================================\n",
            " input_3 (InputLayer)           [(None, 1)]          0           []                               \n",
            "                                                                                                  \n",
            " input_4 (InputLayer)           [(None, 1)]          0           []                               \n",
            "                                                                                                  \n",
            " input_5 (InputLayer)           [(None, 1)]          0           []                               \n",
            "                                                                                                  \n",
            " embedding_4 (Embedding)        (None, 1, 200)       188800      ['input_3[0][0]']                \n",
            "                                                                                                  \n",
            " embedding_5 (Embedding)        (None, 1, 200)       336600      ['input_4[0][0]']                \n",
            "                                                                                                  \n",
            " embedding_7 (Embedding)        (None, 1, 1)         944         ['input_3[0][0]']                \n",
            "                                                                                                  \n",
            " embedding_8 (Embedding)        (None, 1, 1)         1683        ['input_4[0][0]']                \n",
            "                                                                                                  \n",
            " embedding_6 (Embedding)        (None, 1, 3)         63          ['input_5[0][0]']                \n",
            "                                                                                                  \n",
            " flatten_1 (Flatten)            (None, 200)          0           ['embedding_4[0][0]']            \n",
            "                                                                                                  \n",
            " flatten_2 (Flatten)            (None, 200)          0           ['embedding_5[0][0]']            \n",
            "                                                                                                  \n",
            " flatten_4 (Flatten)            (None, 1)            0           ['embedding_7[0][0]']            \n",
            "                                                                                                  \n",
            " flatten_5 (Flatten)            (None, 1)            0           ['embedding_8[0][0]']            \n",
            "                                                                                                  \n",
            " flatten_3 (Flatten)            (None, 3)            0           ['embedding_6[0][0]']            \n",
            "                                                                                                  \n",
            " concatenate (Concatenate)      (None, 405)          0           ['flatten_1[0][0]',              \n",
            "                                                                  'flatten_2[0][0]',              \n",
            "                                                                  'flatten_4[0][0]',              \n",
            "                                                                  'flatten_5[0][0]',              \n",
            "                                                                  'flatten_3[0][0]']              \n",
            "                                                                                                  \n",
            " dense (Dense)                  (None, 2048)         831488      ['concatenate[0][0]']            \n",
            "                                                                                                  \n",
            " activation (Activation)        (None, 2048)         0           ['dense[0][0]']                  \n",
            "                                                                                                  \n",
            " dense_1 (Dense)                (None, 256)          524544      ['activation[0][0]']             \n",
            "                                                                                                  \n",
            " activation_1 (Activation)      (None, 256)          0           ['dense_1[0][0]']                \n",
            "                                                                                                  \n",
            " dense_2 (Dense)                (None, 1)            257         ['activation_1[0][0]']           \n",
            "                                                                                                  \n",
            "==================================================================================================\n",
            "Total params: 1,884,379\n",
            "Trainable params: 1,884,379\n",
            "Non-trainable params: 0\n",
            "__________________________________________________________________________________________________\n"
          ]
        }
      ]
    },
    {
      "cell_type": "code",
      "source": [
        "train_occ = pd.merge(ratings_train,users, on='user_id')['occupation']\n",
        "test_occ = pd.merge(ratings_test,users, on='user_id')['occupation']"
      ],
      "metadata": {
        "id": "p_Rcbvx1wfkW"
      },
      "execution_count": 27,
      "outputs": []
    },
    {
      "cell_type": "code",
      "source": [
        "result = model.fit(\n",
        "    x=[ratings_train.user_id.values, ratings_train.movie_id.values, train_occ.values],\n",
        "    y = ratings_train.rating.values - mu,\n",
        "    epochs = 50,\n",
        "    batch_size=512,\n",
        "    validation_data=(\n",
        "        [ratings_test.user_id.values, ratings_test.movie_id.values, test_occ.values],\n",
        "        ratings_test.rating.values - mu\n",
        "    )\n",
        ")"
      ],
      "metadata": {
        "colab": {
          "base_uri": "https://localhost:8080/",
          "height": 426
        },
        "id": "Kn04r9VCrr_J",
        "outputId": "15809265-9230-485e-ec48-3d0b2c1defd0"
      },
      "execution_count": 29,
      "outputs": [
        {
          "output_type": "stream",
          "name": "stdout",
          "text": [
            "Epoch 1/50\n",
            " 12/157 [=>............................] - ETA: 14s - loss: 2.1070 - RMSE: 1.0787"
          ]
        },
        {
          "output_type": "error",
          "ename": "KeyboardInterrupt",
          "evalue": "ignored",
          "traceback": [
            "\u001b[0;31m---------------------------------------------------------------------------\u001b[0m",
            "\u001b[0;31mKeyboardInterrupt\u001b[0m                         Traceback (most recent call last)",
            "\u001b[0;32m<ipython-input-29-6793ecca6918>\u001b[0m in \u001b[0;36m<cell line: 1>\u001b[0;34m()\u001b[0m\n\u001b[0;32m----> 1\u001b[0;31m result = model.fit(\n\u001b[0m\u001b[1;32m      2\u001b[0m     \u001b[0mx\u001b[0m\u001b[0;34m=\u001b[0m\u001b[0;34m[\u001b[0m\u001b[0mratings_train\u001b[0m\u001b[0;34m.\u001b[0m\u001b[0muser_id\u001b[0m\u001b[0;34m.\u001b[0m\u001b[0mvalues\u001b[0m\u001b[0;34m,\u001b[0m \u001b[0mratings_train\u001b[0m\u001b[0;34m.\u001b[0m\u001b[0mmovie_id\u001b[0m\u001b[0;34m.\u001b[0m\u001b[0mvalues\u001b[0m\u001b[0;34m,\u001b[0m \u001b[0mtrain_occ\u001b[0m\u001b[0;34m.\u001b[0m\u001b[0mvalues\u001b[0m\u001b[0;34m]\u001b[0m\u001b[0;34m,\u001b[0m\u001b[0;34m\u001b[0m\u001b[0;34m\u001b[0m\u001b[0m\n\u001b[1;32m      3\u001b[0m     \u001b[0my\u001b[0m \u001b[0;34m=\u001b[0m \u001b[0mratings_train\u001b[0m\u001b[0;34m.\u001b[0m\u001b[0mrating\u001b[0m\u001b[0;34m.\u001b[0m\u001b[0mvalues\u001b[0m \u001b[0;34m-\u001b[0m \u001b[0mmu\u001b[0m\u001b[0;34m,\u001b[0m\u001b[0;34m\u001b[0m\u001b[0;34m\u001b[0m\u001b[0m\n\u001b[1;32m      4\u001b[0m     \u001b[0mepochs\u001b[0m \u001b[0;34m=\u001b[0m \u001b[0;36m50\u001b[0m\u001b[0;34m,\u001b[0m\u001b[0;34m\u001b[0m\u001b[0;34m\u001b[0m\u001b[0m\n\u001b[1;32m      5\u001b[0m     \u001b[0mbatch_size\u001b[0m\u001b[0;34m=\u001b[0m\u001b[0;36m512\u001b[0m\u001b[0;34m,\u001b[0m\u001b[0;34m\u001b[0m\u001b[0;34m\u001b[0m\u001b[0m\n",
            "\u001b[0;32m/usr/local/lib/python3.9/dist-packages/keras/utils/traceback_utils.py\u001b[0m in \u001b[0;36merror_handler\u001b[0;34m(*args, **kwargs)\u001b[0m\n\u001b[1;32m     63\u001b[0m         \u001b[0mfiltered_tb\u001b[0m \u001b[0;34m=\u001b[0m \u001b[0;32mNone\u001b[0m\u001b[0;34m\u001b[0m\u001b[0;34m\u001b[0m\u001b[0m\n\u001b[1;32m     64\u001b[0m         \u001b[0;32mtry\u001b[0m\u001b[0;34m:\u001b[0m\u001b[0;34m\u001b[0m\u001b[0;34m\u001b[0m\u001b[0m\n\u001b[0;32m---> 65\u001b[0;31m             \u001b[0;32mreturn\u001b[0m \u001b[0mfn\u001b[0m\u001b[0;34m(\u001b[0m\u001b[0;34m*\u001b[0m\u001b[0margs\u001b[0m\u001b[0;34m,\u001b[0m \u001b[0;34m**\u001b[0m\u001b[0mkwargs\u001b[0m\u001b[0;34m)\u001b[0m\u001b[0;34m\u001b[0m\u001b[0;34m\u001b[0m\u001b[0m\n\u001b[0m\u001b[1;32m     66\u001b[0m         \u001b[0;32mexcept\u001b[0m \u001b[0mException\u001b[0m \u001b[0;32mas\u001b[0m \u001b[0me\u001b[0m\u001b[0;34m:\u001b[0m\u001b[0;34m\u001b[0m\u001b[0;34m\u001b[0m\u001b[0m\n\u001b[1;32m     67\u001b[0m             \u001b[0mfiltered_tb\u001b[0m \u001b[0;34m=\u001b[0m \u001b[0m_process_traceback_frames\u001b[0m\u001b[0;34m(\u001b[0m\u001b[0me\u001b[0m\u001b[0;34m.\u001b[0m\u001b[0m__traceback__\u001b[0m\u001b[0;34m)\u001b[0m\u001b[0;34m\u001b[0m\u001b[0;34m\u001b[0m\u001b[0m\n",
            "\u001b[0;32m/usr/local/lib/python3.9/dist-packages/keras/engine/training.py\u001b[0m in \u001b[0;36mfit\u001b[0;34m(self, x, y, batch_size, epochs, verbose, callbacks, validation_split, validation_data, shuffle, class_weight, sample_weight, initial_epoch, steps_per_epoch, validation_steps, validation_batch_size, validation_freq, max_queue_size, workers, use_multiprocessing)\u001b[0m\n\u001b[1;32m   1683\u001b[0m                         ):\n\u001b[1;32m   1684\u001b[0m                             \u001b[0mcallbacks\u001b[0m\u001b[0;34m.\u001b[0m\u001b[0mon_train_batch_begin\u001b[0m\u001b[0;34m(\u001b[0m\u001b[0mstep\u001b[0m\u001b[0;34m)\u001b[0m\u001b[0;34m\u001b[0m\u001b[0;34m\u001b[0m\u001b[0m\n\u001b[0;32m-> 1685\u001b[0;31m                             \u001b[0mtmp_logs\u001b[0m \u001b[0;34m=\u001b[0m \u001b[0mself\u001b[0m\u001b[0;34m.\u001b[0m\u001b[0mtrain_function\u001b[0m\u001b[0;34m(\u001b[0m\u001b[0miterator\u001b[0m\u001b[0;34m)\u001b[0m\u001b[0;34m\u001b[0m\u001b[0;34m\u001b[0m\u001b[0m\n\u001b[0m\u001b[1;32m   1686\u001b[0m                             \u001b[0;32mif\u001b[0m \u001b[0mdata_handler\u001b[0m\u001b[0;34m.\u001b[0m\u001b[0mshould_sync\u001b[0m\u001b[0;34m:\u001b[0m\u001b[0;34m\u001b[0m\u001b[0;34m\u001b[0m\u001b[0m\n\u001b[1;32m   1687\u001b[0m                                 \u001b[0mcontext\u001b[0m\u001b[0;34m.\u001b[0m\u001b[0masync_wait\u001b[0m\u001b[0;34m(\u001b[0m\u001b[0;34m)\u001b[0m\u001b[0;34m\u001b[0m\u001b[0;34m\u001b[0m\u001b[0m\n",
            "\u001b[0;32m/usr/local/lib/python3.9/dist-packages/tensorflow/python/util/traceback_utils.py\u001b[0m in \u001b[0;36merror_handler\u001b[0;34m(*args, **kwargs)\u001b[0m\n\u001b[1;32m    148\u001b[0m     \u001b[0mfiltered_tb\u001b[0m \u001b[0;34m=\u001b[0m \u001b[0;32mNone\u001b[0m\u001b[0;34m\u001b[0m\u001b[0;34m\u001b[0m\u001b[0m\n\u001b[1;32m    149\u001b[0m     \u001b[0;32mtry\u001b[0m\u001b[0;34m:\u001b[0m\u001b[0;34m\u001b[0m\u001b[0;34m\u001b[0m\u001b[0m\n\u001b[0;32m--> 150\u001b[0;31m       \u001b[0;32mreturn\u001b[0m \u001b[0mfn\u001b[0m\u001b[0;34m(\u001b[0m\u001b[0;34m*\u001b[0m\u001b[0margs\u001b[0m\u001b[0;34m,\u001b[0m \u001b[0;34m**\u001b[0m\u001b[0mkwargs\u001b[0m\u001b[0;34m)\u001b[0m\u001b[0;34m\u001b[0m\u001b[0;34m\u001b[0m\u001b[0m\n\u001b[0m\u001b[1;32m    151\u001b[0m     \u001b[0;32mexcept\u001b[0m \u001b[0mException\u001b[0m \u001b[0;32mas\u001b[0m \u001b[0me\u001b[0m\u001b[0;34m:\u001b[0m\u001b[0;34m\u001b[0m\u001b[0;34m\u001b[0m\u001b[0m\n\u001b[1;32m    152\u001b[0m       \u001b[0mfiltered_tb\u001b[0m \u001b[0;34m=\u001b[0m \u001b[0m_process_traceback_frames\u001b[0m\u001b[0;34m(\u001b[0m\u001b[0me\u001b[0m\u001b[0;34m.\u001b[0m\u001b[0m__traceback__\u001b[0m\u001b[0;34m)\u001b[0m\u001b[0;34m\u001b[0m\u001b[0;34m\u001b[0m\u001b[0m\n",
            "\u001b[0;32m/usr/local/lib/python3.9/dist-packages/tensorflow/python/eager/polymorphic_function/polymorphic_function.py\u001b[0m in \u001b[0;36m__call__\u001b[0;34m(self, *args, **kwds)\u001b[0m\n\u001b[1;32m    892\u001b[0m \u001b[0;34m\u001b[0m\u001b[0m\n\u001b[1;32m    893\u001b[0m       \u001b[0;32mwith\u001b[0m \u001b[0mOptionalXlaContext\u001b[0m\u001b[0;34m(\u001b[0m\u001b[0mself\u001b[0m\u001b[0;34m.\u001b[0m\u001b[0m_jit_compile\u001b[0m\u001b[0;34m)\u001b[0m\u001b[0;34m:\u001b[0m\u001b[0;34m\u001b[0m\u001b[0;34m\u001b[0m\u001b[0m\n\u001b[0;32m--> 894\u001b[0;31m         \u001b[0mresult\u001b[0m \u001b[0;34m=\u001b[0m \u001b[0mself\u001b[0m\u001b[0;34m.\u001b[0m\u001b[0m_call\u001b[0m\u001b[0;34m(\u001b[0m\u001b[0;34m*\u001b[0m\u001b[0margs\u001b[0m\u001b[0;34m,\u001b[0m \u001b[0;34m**\u001b[0m\u001b[0mkwds\u001b[0m\u001b[0;34m)\u001b[0m\u001b[0;34m\u001b[0m\u001b[0;34m\u001b[0m\u001b[0m\n\u001b[0m\u001b[1;32m    895\u001b[0m \u001b[0;34m\u001b[0m\u001b[0m\n\u001b[1;32m    896\u001b[0m       \u001b[0mnew_tracing_count\u001b[0m \u001b[0;34m=\u001b[0m \u001b[0mself\u001b[0m\u001b[0;34m.\u001b[0m\u001b[0mexperimental_get_tracing_count\u001b[0m\u001b[0;34m(\u001b[0m\u001b[0;34m)\u001b[0m\u001b[0;34m\u001b[0m\u001b[0;34m\u001b[0m\u001b[0m\n",
            "\u001b[0;32m/usr/local/lib/python3.9/dist-packages/tensorflow/python/eager/polymorphic_function/polymorphic_function.py\u001b[0m in \u001b[0;36m_call\u001b[0;34m(self, *args, **kwds)\u001b[0m\n\u001b[1;32m    924\u001b[0m       \u001b[0;31m# In this case we have created variables on the first call, so we run the\u001b[0m\u001b[0;34m\u001b[0m\u001b[0;34m\u001b[0m\u001b[0m\n\u001b[1;32m    925\u001b[0m       \u001b[0;31m# defunned version which is guaranteed to never create variables.\u001b[0m\u001b[0;34m\u001b[0m\u001b[0;34m\u001b[0m\u001b[0m\n\u001b[0;32m--> 926\u001b[0;31m       \u001b[0;32mreturn\u001b[0m \u001b[0mself\u001b[0m\u001b[0;34m.\u001b[0m\u001b[0m_no_variable_creation_fn\u001b[0m\u001b[0;34m(\u001b[0m\u001b[0;34m*\u001b[0m\u001b[0margs\u001b[0m\u001b[0;34m,\u001b[0m \u001b[0;34m**\u001b[0m\u001b[0mkwds\u001b[0m\u001b[0;34m)\u001b[0m  \u001b[0;31m# pylint: disable=not-callable\u001b[0m\u001b[0;34m\u001b[0m\u001b[0;34m\u001b[0m\u001b[0m\n\u001b[0m\u001b[1;32m    927\u001b[0m     \u001b[0;32melif\u001b[0m \u001b[0mself\u001b[0m\u001b[0;34m.\u001b[0m\u001b[0m_variable_creation_fn\u001b[0m \u001b[0;32mis\u001b[0m \u001b[0;32mnot\u001b[0m \u001b[0;32mNone\u001b[0m\u001b[0;34m:\u001b[0m\u001b[0;34m\u001b[0m\u001b[0;34m\u001b[0m\u001b[0m\n\u001b[1;32m    928\u001b[0m       \u001b[0;31m# Release the lock early so that multiple threads can perform the call\u001b[0m\u001b[0;34m\u001b[0m\u001b[0;34m\u001b[0m\u001b[0m\n",
            "\u001b[0;32m/usr/local/lib/python3.9/dist-packages/tensorflow/python/eager/polymorphic_function/tracing_compiler.py\u001b[0m in \u001b[0;36m__call__\u001b[0;34m(self, *args, **kwargs)\u001b[0m\n\u001b[1;32m    141\u001b[0m       (concrete_function,\n\u001b[1;32m    142\u001b[0m        filtered_flat_args) = self._maybe_define_function(args, kwargs)\n\u001b[0;32m--> 143\u001b[0;31m     return concrete_function._call_flat(\n\u001b[0m\u001b[1;32m    144\u001b[0m         filtered_flat_args, captured_inputs=concrete_function.captured_inputs)  # pylint: disable=protected-access\n\u001b[1;32m    145\u001b[0m \u001b[0;34m\u001b[0m\u001b[0m\n",
            "\u001b[0;32m/usr/local/lib/python3.9/dist-packages/tensorflow/python/eager/polymorphic_function/monomorphic_function.py\u001b[0m in \u001b[0;36m_call_flat\u001b[0;34m(self, args, captured_inputs, cancellation_manager)\u001b[0m\n\u001b[1;32m   1755\u001b[0m         and executing_eagerly):\n\u001b[1;32m   1756\u001b[0m       \u001b[0;31m# No tape is watching; skip to running the function.\u001b[0m\u001b[0;34m\u001b[0m\u001b[0;34m\u001b[0m\u001b[0m\n\u001b[0;32m-> 1757\u001b[0;31m       return self._build_call_outputs(self._inference_function.call(\n\u001b[0m\u001b[1;32m   1758\u001b[0m           ctx, args, cancellation_manager=cancellation_manager))\n\u001b[1;32m   1759\u001b[0m     forward_backward = self._select_forward_and_backward_functions(\n",
            "\u001b[0;32m/usr/local/lib/python3.9/dist-packages/tensorflow/python/eager/polymorphic_function/monomorphic_function.py\u001b[0m in \u001b[0;36mcall\u001b[0;34m(self, ctx, args, cancellation_manager)\u001b[0m\n\u001b[1;32m    379\u001b[0m       \u001b[0;32mwith\u001b[0m \u001b[0m_InterpolateFunctionError\u001b[0m\u001b[0;34m(\u001b[0m\u001b[0mself\u001b[0m\u001b[0;34m)\u001b[0m\u001b[0;34m:\u001b[0m\u001b[0;34m\u001b[0m\u001b[0;34m\u001b[0m\u001b[0m\n\u001b[1;32m    380\u001b[0m         \u001b[0;32mif\u001b[0m \u001b[0mcancellation_manager\u001b[0m \u001b[0;32mis\u001b[0m \u001b[0;32mNone\u001b[0m\u001b[0;34m:\u001b[0m\u001b[0;34m\u001b[0m\u001b[0;34m\u001b[0m\u001b[0m\n\u001b[0;32m--> 381\u001b[0;31m           outputs = execute.execute(\n\u001b[0m\u001b[1;32m    382\u001b[0m               \u001b[0mstr\u001b[0m\u001b[0;34m(\u001b[0m\u001b[0mself\u001b[0m\u001b[0;34m.\u001b[0m\u001b[0msignature\u001b[0m\u001b[0;34m.\u001b[0m\u001b[0mname\u001b[0m\u001b[0;34m)\u001b[0m\u001b[0;34m,\u001b[0m\u001b[0;34m\u001b[0m\u001b[0;34m\u001b[0m\u001b[0m\n\u001b[1;32m    383\u001b[0m               \u001b[0mnum_outputs\u001b[0m\u001b[0;34m=\u001b[0m\u001b[0mself\u001b[0m\u001b[0;34m.\u001b[0m\u001b[0m_num_outputs\u001b[0m\u001b[0;34m,\u001b[0m\u001b[0;34m\u001b[0m\u001b[0;34m\u001b[0m\u001b[0m\n",
            "\u001b[0;32m/usr/local/lib/python3.9/dist-packages/tensorflow/python/eager/execute.py\u001b[0m in \u001b[0;36mquick_execute\u001b[0;34m(op_name, num_outputs, inputs, attrs, ctx, name)\u001b[0m\n\u001b[1;32m     50\u001b[0m   \u001b[0;32mtry\u001b[0m\u001b[0;34m:\u001b[0m\u001b[0;34m\u001b[0m\u001b[0;34m\u001b[0m\u001b[0m\n\u001b[1;32m     51\u001b[0m     \u001b[0mctx\u001b[0m\u001b[0;34m.\u001b[0m\u001b[0mensure_initialized\u001b[0m\u001b[0;34m(\u001b[0m\u001b[0;34m)\u001b[0m\u001b[0;34m\u001b[0m\u001b[0;34m\u001b[0m\u001b[0m\n\u001b[0;32m---> 52\u001b[0;31m     tensors = pywrap_tfe.TFE_Py_Execute(ctx._handle, device_name, op_name,\n\u001b[0m\u001b[1;32m     53\u001b[0m                                         inputs, attrs, num_outputs)\n\u001b[1;32m     54\u001b[0m   \u001b[0;32mexcept\u001b[0m \u001b[0mcore\u001b[0m\u001b[0;34m.\u001b[0m\u001b[0m_NotOkStatusException\u001b[0m \u001b[0;32mas\u001b[0m \u001b[0me\u001b[0m\u001b[0;34m:\u001b[0m\u001b[0;34m\u001b[0m\u001b[0;34m\u001b[0m\u001b[0m\n",
            "\u001b[0;31mKeyboardInterrupt\u001b[0m: "
          ]
        }
      ]
    },
    {
      "cell_type": "code",
      "source": [
        "plt.plot(result.history['RMSE'], label='Train RMSE')\n",
        "plt.plot(result.history['val_RMSE'], label='Test RMSE')\n",
        "plt.legend()\n",
        "plt.show()"
      ],
      "metadata": {
        "id": "wwLGizCesNrb"
      },
      "execution_count": null,
      "outputs": []
    }
  ]
}